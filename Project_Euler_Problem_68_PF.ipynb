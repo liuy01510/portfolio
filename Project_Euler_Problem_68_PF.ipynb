{
  "nbformat": 4,
  "nbformat_minor": 0,
  "metadata": {
    "colab": {
      "name": "Project Euler - Problem 68.ipynb",
      "provenance": [],
      "authorship_tag": "ABX9TyMWBpbxvuq362yXITPBpVI1",
      "include_colab_link": true
    },
    "kernelspec": {
      "name": "python3",
      "display_name": "Python 3"
    }
  },
  "cells": [
    {
      "cell_type": "markdown",
      "metadata": {
        "id": "view-in-github",
        "colab_type": "text"
      },
      "source": [
        "<a href=\"https://colab.research.google.com/github/liuy01510/portfolio/blob/master/Project_Euler_Problem_68_PF.ipynb\" target=\"_parent\"><img src=\"https://colab.research.google.com/assets/colab-badge.svg\" alt=\"Open In Colab\"/></a>"
      ]
    },
    {
      "cell_type": "markdown",
      "metadata": {
        "id": "x-CTj0qv5HtX",
        "colab_type": "text"
      },
      "source": [
        "# Introduction\n",
        "- A few starting points:\n",
        "    - 5 outer points + 5 inner points.\n",
        "    - The 5 inner points are from 1 to 5, because if any value from 1 to 5 were located on the outer ring, they will be selected as the starting digit.\n",
        "    - In order to start with the lowest outer point as the first digit, the only possiblity is 6.\n",
        "    - The value of 10 should be on the outer ring, but it should be attempted to be delegated to the end of the digit string, since the \"0\" in the \"10\" digit does not serve to increase the total digit string value if placed nearer to the start of the digit string.\n",
        "    - Equal sum conditional: The sum of the digits in the same line should be equal for all lines.\n",
        "    - Last digit of the previous 3-digit combo is the 2nd digit of the next 3-digit combo.\n",
        "    "
      ]
    },
    {
      "cell_type": "markdown",
      "metadata": {
        "id": "XDU1V1Gt6bCH",
        "colab_type": "text"
      },
      "source": [
        "# Solution Procedure\n",
        "- Utilize a recursive backtracking algorithm to try all possibilities with the above conditions implemented.\n",
        "- The algorithm should generate the iterable from a top-down approach, always starting with the maximum value first."
      ]
    },
    {
      "cell_type": "markdown",
      "metadata": {
        "id": "NjI0Ngf-6z0f",
        "colab_type": "text"
      },
      "source": [
        "# Importing the required modules"
      ]
    },
    {
      "cell_type": "code",
      "metadata": {
        "id": "tWa6Jje_625M",
        "colab_type": "code",
        "colab": {}
      },
      "source": [
        "import numpy as np\n",
        "import scipy as sp\n",
        "import collections as coll\n",
        "from functools import partial\n",
        "from itertools import permutations\n",
        "import time"
      ],
      "execution_count": 0,
      "outputs": []
    },
    {
      "cell_type": "markdown",
      "metadata": {
        "id": "e7ddCuFB68F8",
        "colab_type": "text"
      },
      "source": [
        "# Designing the backtracking algorithm\n"
      ]
    },
    {
      "cell_type": "code",
      "metadata": {
        "id": "uj8exlvz7EG3",
        "colab_type": "code",
        "colab": {}
      },
      "source": [
        "def Gon(prev=None,inner=[1,2,3,4,5],outer=[7,8,9,10],result=None):\n",
        "    \"\"\"\n",
        "    Args:\n",
        "    - prev:list of tuples = Current list of values. Default is None during initialization.\n",
        "    - inner:list = list of possible values for the inner ring. Default is [1,2,3,4,5]\n",
        "    - outer: list = list of possible values for the outer ring. Default is [7,8,9]\n",
        "    Return:\n",
        "    - result:list = list containing all possible permutations that fits the stated conditions.\n",
        "    \"\"\"\n",
        "    desc=partial(sorted,reverse=True) # default reverse ordering.\n",
        "    if prev==None: # initialization.\n",
        "        result=[]\n",
        "        a=b=c=0\n",
        "        a=6 # default starting value.\n",
        "        for b,c in desc(permutations(inner,2),key=lambda y:y[0]): # permuate all combinations, sorted in desc order.\n",
        "            _inner=list(inner) # generate a new internal _list var\n",
        "            _inner.remove(b) # remove b from _list\n",
        "            _inner.remove(c) # remove c from _list\n",
        "            Gon(prev=[(a,b,c)],inner=_inner,outer=outer,result=result) # recursive call\n",
        "        return result\n",
        "    else: # post initialization.\n",
        "        if len(prev)==4: # termination condition\n",
        "            a=outer[0] # last available digit.\n",
        "            b=prev[-1][2] # based on the connections\n",
        "            c=prev[0][1] # based on the connections.\n",
        "            if sum(prev[-1])==sum([a,b,c]): # equal sum condition\n",
        "                prev.append((a,b,c))\n",
        "                total='' # count the total number of digits.\n",
        "                for a,b,c in prev:\n",
        "                    a=str(a)\n",
        "                    b=str(b)\n",
        "                    c=str(c)\n",
        "                    total+=a+b+c\n",
        "                if len(total)==16: # store in result only if number of digits == 16\n",
        "                    result.append(total)\n",
        "        else:\n",
        "            b=prev[-1][2] # determined based on the structure.\n",
        "            for a in desc(outer):\n",
        "                for c in desc(inner):\n",
        "                    # conditional that has to match\n",
        "                    if sum(prev[-1])!=sum([a,b,c]): # equal sum condition\n",
        "                        continue\n",
        "                    else:\n",
        "                        _outer=list(outer)\n",
        "                        _inner=list(inner)\n",
        "                        _outer.remove(a)\n",
        "                        _inner.remove(c)\n",
        "                        prev.append((a,b,c))\n",
        "                        Gon(prev=prev,inner=_inner,outer=_outer,result=result)"
      ],
      "execution_count": 0,
      "outputs": []
    },
    {
      "cell_type": "markdown",
      "metadata": {
        "id": "1a7gF-k1JxsH",
        "colab_type": "text"
      },
      "source": [
        "# Solution"
      ]
    },
    {
      "cell_type": "code",
      "metadata": {
        "id": "SqPLIczeJ0rN",
        "colab_type": "code",
        "colab": {
          "base_uri": "https://localhost:8080/",
          "height": 55
        },
        "outputId": "99cffab8-3781-4edd-af46-72867ed7df1f"
      },
      "source": [
        "def Main():\n",
        "    start=time.time()\n",
        "    result=max([int(i) for i in Gon()])\n",
        "    print(f\"The maximum digit value of a {len(str(result))} digit 5-gon is {result}.\")\n",
        "    end=time.time()\n",
        "    print(f\"The total time taken to solve this problem is {end-start} seconds.\")\n",
        "Main()"
      ],
      "execution_count": 97,
      "outputs": [
        {
          "output_type": "stream",
          "text": [
            "The maximum digit value of a 16 digit 5-gon is 6531031914842725.\n",
            "The total time taken to solve this problem is 0.0008938312530517578 seconds.\n"
          ],
          "name": "stdout"
        }
      ]
    },
    {
      "cell_type": "markdown",
      "metadata": {
        "id": "ooJnS0LDPhg1",
        "colab_type": "text"
      },
      "source": [
        "# Discussion\n",
        "- Initially, the ideal solution was to shift the digit \"10\" to the back part of the digit string in order to maximize the value. \n",
        "    - However, this was not possible as determined by the conditionals within the algorithm.\n",
        "- This problem can also be solved using Constraint Programming, which may be explored in the future."
      ]
    }
  ]
}