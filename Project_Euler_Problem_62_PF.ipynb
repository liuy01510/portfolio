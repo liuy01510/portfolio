{
  "nbformat": 4,
  "nbformat_minor": 0,
  "metadata": {
    "colab": {
      "name": "Project Euler - Problem 62 (Portfolio Version).ipynb",
      "provenance": [],
      "authorship_tag": "ABX9TyNMFONGMo/oWbrRwrADjAta",
      "include_colab_link": true
    },
    "kernelspec": {
      "name": "python3",
      "display_name": "Python 3"
    }
  },
  "cells": [
    {
      "cell_type": "markdown",
      "metadata": {
        "id": "view-in-github",
        "colab_type": "text"
      },
      "source": [
        "<a href=\"https://colab.research.google.com/github/liuy01510/portfolio/blob/master/Project_Euler_Problem_62_PF.ipynb\" target=\"_parent\"><img src=\"https://colab.research.google.com/assets/colab-badge.svg\" alt=\"Open In Colab\"/></a>"
      ]
    },
    {
      "cell_type": "markdown",
      "metadata": {
        "id": "rG1qHT-K3_i6",
        "colab_type": "text"
      },
      "source": [
        "# Problem Statement\n",
        "The cube, 41063625 (345^3), can be permuted to produce two other cubes: 56623104 (384^3) and 66430125 (405^3). In fact, 41063625 is the smallest cube which has exactly three permutations of its digits which are also cube.\n",
        "\n",
        "Find the smallest cube for which exactly five permutations of its digits are cube."
      ]
    },
    {
      "cell_type": "markdown",
      "metadata": {
        "id": "CgCWkuVA4ZWf",
        "colab_type": "text"
      },
      "source": [
        "# Importing required libraries"
      ]
    },
    {
      "cell_type": "code",
      "metadata": {
        "id": "8XSA3uzz5cnk",
        "colab_type": "code",
        "colab": {}
      },
      "source": [
        "import numpy as np\n",
        "import scipy as sp\n",
        "import pandas as pd\n",
        "from collections import Counter\n",
        "import time"
      ],
      "execution_count": 0,
      "outputs": []
    },
    {
      "cell_type": "markdown",
      "metadata": {
        "id": "GZjovao36GSk",
        "colab_type": "text"
      },
      "source": [
        "# Methods Testing\n",
        "\n",
        "## Requirements\n",
        "- Length of each of the permutations must be equal.\n",
        "- Count of digits within each permutations must be equal."
      ]
    },
    {
      "cell_type": "code",
      "metadata": {
        "id": "cVsBxEYS5qjB",
        "colab_type": "code",
        "outputId": "2ef1bc36-a07c-4fc0-d155-cbacf06b1106",
        "colab": {
          "base_uri": "https://localhost:8080/",
          "height": 55
        }
      },
      "source": [
        "# Comparison using counter objects\n",
        "x1=str(345**3)\n",
        "x2=str(384**3)\n",
        "y1=Counter(x1)\n",
        "y2=Counter(x2)\n",
        "print(y1==y2)\n",
        "print(len(y1)==len(y2))"
      ],
      "execution_count": 8,
      "outputs": [
        {
          "output_type": "stream",
          "text": [
            "True\n",
            "True\n"
          ],
          "name": "stdout"
        }
      ]
    },
    {
      "cell_type": "markdown",
      "metadata": {
        "id": "aLOxl_XI7qpY",
        "colab_type": "text"
      },
      "source": [
        "Therefore, it can be seen that Counter Objects can be used for comparison."
      ]
    },
    {
      "cell_type": "markdown",
      "metadata": {
        "id": "zby44x7M728y",
        "colab_type": "text"
      },
      "source": [
        "# Solution Implementation"
      ]
    },
    {
      "cell_type": "code",
      "metadata": {
        "id": "7kF2_D-t75C0",
        "colab_type": "code",
        "outputId": "ca3b7f7d-c2b6-4efb-81ab-1b21e79c9234",
        "colab": {
          "base_uri": "https://localhost:8080/",
          "height": 55
        }
      },
      "source": [
        "def Main():\n",
        "    cond=False # conditional to break the loop --> if 5 permutations present.\n",
        "    results={} # results to store the value:counter pair.\n",
        "    x=1 # initial number.\n",
        "    while cond==False:\n",
        "        newVal=Counter(str(x**3)) # creating a new value.\n",
        "        results[x]=newVal # adding the new counter into the dict\n",
        "        if list(results.values()).count(newVal)==5:\n",
        "            cond==True # condition has been met.\n",
        "            permVals=[key for key in results.keys() if results[key]==newVal]\n",
        "            break\n",
        "        x+=1 # incrementing by 1.\n",
        "    return permVals\n",
        "\n",
        "# Getting the list of values\n",
        "start=time.time()\n",
        "solution=Main()\n",
        "end=time.time()\n",
        "print(f\"The digits are {str(solution)[1:-1]}, with the smallest cube being {min(solution)}.\")\n",
        "print(f\"The running time of the solver is {end-start} seconds.\")"
      ],
      "execution_count": 9,
      "outputs": [
        {
          "output_type": "stream",
          "text": [
            "The digits are 5027, 7061, 7202, 8288, 8384, with the smallest cube being 5027.\n",
            "The running time of the solver is 1.3007383346557617 seconds.\n"
          ],
          "name": "stdout"
        }
      ]
    }
  ]
}