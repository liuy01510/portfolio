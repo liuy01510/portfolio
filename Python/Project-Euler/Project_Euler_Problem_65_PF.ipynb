{
  "nbformat": 4,
  "nbformat_minor": 0,
  "metadata": {
    "colab": {
      "name": "Project Euler - Problem 65 (Portfolio).ipynb",
      "provenance": [],
      "collapsed_sections": [],
      "authorship_tag": "ABX9TyOug8MYfa2tqbC5qWUVt4GT",
      "include_colab_link": true
    },
    "kernelspec": {
      "name": "python3",
      "display_name": "Python 3"
    }
  },
  "cells": [
    {
      "cell_type": "markdown",
      "metadata": {
        "id": "view-in-github",
        "colab_type": "text"
      },
      "source": [
        "<a href=\"https://colab.research.google.com/github/liuy01510/portfolio/blob/master/Project_Euler_Problem_65_PF.ipynb\" target=\"_parent\"><img src=\"https://colab.research.google.com/assets/colab-badge.svg\" alt=\"Open In Colab\"/></a>"
      ]
    },
    {
      "cell_type": "markdown",
      "metadata": {
        "id": "zFLuUGVcxunJ",
        "colab_type": "text"
      },
      "source": [
        "# Introduction\n",
        "- Problem statement can be found in the following link:\n",
        "https://projecteuler.net/problem=65\n"
      ]
    },
    {
      "cell_type": "markdown",
      "metadata": {
        "id": "oq9F-h7bx6wT",
        "colab_type": "text"
      },
      "source": [
        "# Importing Modules"
      ]
    },
    {
      "cell_type": "code",
      "metadata": {
        "id": "tJYmKupKyJUg",
        "colab_type": "code",
        "colab": {}
      },
      "source": [
        "import numpy as np\n",
        "import scipy as sp\n",
        "import collections as coll\n",
        "from fractions import Fraction\n",
        "import time"
      ],
      "execution_count": 0,
      "outputs": []
    },
    {
      "cell_type": "markdown",
      "metadata": {
        "id": "gaIYbfwBySLp",
        "colab_type": "text"
      },
      "source": [
        "# Problem procedure\n",
        "1. Generate the sequence of partial values with a length of n.\n",
        "2. Recursively add them together to form the solution.\n",
        "3. Add the initial starting value to produce the solution.\n",
        "\n",
        "## Recursive Algorithm\n",
        "- Args: List of values to be added.\n",
        "1. Check if len of seq == 1.\n",
        "    - If len == 1, return the base fraction.\n",
        "    - If len > 1, return the base fraction based on the first value in the sequence + recursive function (seq with the first value removed).\n",
        "    "
      ]
    },
    {
      "cell_type": "code",
      "metadata": {
        "id": "ZcnZ4b_ByylZ",
        "colab_type": "code",
        "outputId": "b09d63b6-e1f1-4afb-b371-c255de7817fe",
        "colab": {
          "base_uri": "https://localhost:8080/",
          "height": 93
        }
      },
      "source": [
        "# RECURSIVE ALGORITHM\n",
        "def Convergent_Function(seq):\n",
        "    \"\"\"\n",
        "    Args:\n",
        "    - seq = iterable of any type, represents the seq of partial values.\n",
        "    \"\"\"\n",
        "    # Perform type checking\n",
        "    if '__iter__' not in dir(seq):\n",
        "        raise TypeError(f\"The object {type(seq)} is not an iterable.\")\n",
        "    if all([type(i)==int for i in seq])==False:\n",
        "        print(f\"Non-integer values detected. Attempting to convert to integer values.\")\n",
        "        try:\n",
        "            seq=[int(i) for i in seq]\n",
        "        except:\n",
        "            raise TypeError('Integer conversion failed. Please check the values passed.')\n",
        "            \n",
        "    # Recursive Algorithm\n",
        "    if len(seq)==2:\n",
        "        return Fraction(1,seq[0]+Fraction(1,seq[1]))\n",
        "    else:\n",
        "        return Fraction(1,seq[0]+Convergent_Function(seq[1:]))\n",
        "\n",
        "def Seq_Generator(seqLength):\n",
        "    # k value is generated at positions [1,4,7,11,...]\n",
        "\n",
        "    # Creating a numpy array with the same length as the seqLength\n",
        "    x=np.ones((int(seqLength),),np.int64)\n",
        "\n",
        "    # Create a generator for the k values\n",
        "    def k_val():\n",
        "        i=1\n",
        "        j=1\n",
        "        while True:\n",
        "            yield (2*i,j)\n",
        "            i+=1\n",
        "            j+=3\n",
        "    \n",
        "    # Appending the k values to the created list\n",
        "    for kVal in k_val():\n",
        "        val,loc=kVal\n",
        "        try:\n",
        "            x[loc]=val # appending the k value.\n",
        "        except:\n",
        "            return x # if out of range, return the completed list.\n",
        "    \n",
        "def Main(seqLength):\n",
        "    start=time.time()\n",
        "    seq=Seq_Generator(int(seqLength))\n",
        "    result=Convergent_Function(seq)+2 # 2 represents the initial value.\n",
        "    num=result.numerator\n",
        "    denom=result.denominator\n",
        "    sol=sum([int(i) for i in str(num)])\n",
        "    end=time.time()\n",
        "    print(f\"The sum of the digits in the numerator is {sol}, completed in {end-start} seconds.\")\n",
        "    \n",
        "# Running the script.\n",
        "Main(99)\n",
        "\n",
        "# Testing the time for a larger digit\n",
        "Main(500)\n"
      ],
      "execution_count": 6,
      "outputs": [
        {
          "output_type": "stream",
          "text": [
            "Non-integer values detected. Attempting to convert to integer values.\n",
            "The sum of the digits in the numerator is 272, completed in 0.0028998851776123047 seconds.\n",
            "Non-integer values detected. Attempting to convert to integer values.\n",
            "The sum of the digits in the numerator is 1839, completed in 0.03805661201477051 seconds.\n"
          ],
          "name": "stdout"
        }
      ]
    }
  ]
}
