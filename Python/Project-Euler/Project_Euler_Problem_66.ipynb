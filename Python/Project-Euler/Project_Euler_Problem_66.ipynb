{
  "nbformat": 4,
  "nbformat_minor": 0,
  "metadata": {
    "colab": {
      "name": "Project Euler - Problem 66.ipynb",
      "provenance": [],
      "authorship_tag": "ABX9TyMxaRigzmjwdqSSgrFKIZNE",
      "include_colab_link": true
    },
    "kernelspec": {
      "name": "python3",
      "display_name": "Python 3"
    }
  },
  "cells": [
    {
      "cell_type": "markdown",
      "metadata": {
        "id": "view-in-github",
        "colab_type": "text"
      },
      "source": [
        "<a href=\"https://colab.research.google.com/github/liuy01510/portfolio/blob/master/Project_Euler_Problem_66.ipynb\" target=\"_parent\"><img src=\"https://colab.research.google.com/assets/colab-badge.svg\" alt=\"Open In Colab\"/></a>"
      ]
    },
    {
      "cell_type": "markdown",
      "metadata": {
        "id": "WW33kqU0YdA3",
        "colab_type": "text"
      },
      "source": [
        "# Introduction to problem\n",
        "- DP Equation general form: $x^2+Dy^2=1$\n",
        "- Objective: Find the min value of x for all D $\\leq$ 1000 $\\rightarrow$\n",
        "determine the D that produces the maximum x value out of all possibilities.\n"
      ]
    },
    {
      "cell_type": "markdown",
      "metadata": {
        "id": "zW0MVvOSZFwj",
        "colab_type": "text"
      },
      "source": [
        "# Solution Formulation\n",
        "- In a previous attempt, brute forcing each value of y per corresponding D value to determine $x_{min}$ was unsuccessfully attempted.\n",
        "    - The possible values of y grows too large to be computed reasonably for each D value.\n",
        "- Therefore, the algorithm to determine the values of the possible (x,y) pairs must be employed to solve this in a reasonable timespan.\n",
        "- Firstly, the convergents to the problem $\\sqrt{D}$ must be found.\n",
        "- After finding the convergents, each of them will be tested to check if they fit into the DP equation."
      ]
    },
    {
      "cell_type": "markdown",
      "metadata": {
        "id": "fDlbg8qmaSS-",
        "colab_type": "text"
      },
      "source": [
        "# Importing the required modules"
      ]
    },
    {
      "cell_type": "code",
      "metadata": {
        "id": "uPUNoTvTaZts",
        "colab_type": "code",
        "colab": {}
      },
      "source": [
        "import numpy as np\n",
        "import collections as coll\n",
        "import math\n",
        "from fractions import Fraction\n",
        "import time"
      ],
      "execution_count": 0,
      "outputs": []
    },
    {
      "cell_type": "markdown",
      "metadata": {
        "id": "qdbXqgfoacWp",
        "colab_type": "text"
      },
      "source": [
        "# Finding the convergents to $\\sqrt{D}$"
      ]
    },
    {
      "cell_type": "markdown",
      "metadata": {
        "id": "sg4JFChob1HH",
        "colab_type": "text"
      },
      "source": [
        "## Finding the canonical form of $\\sqrt{D}$\n",
        "- Canonical form of D: $\\sqrt{D}=a_0+\\frac{1}{a_1+\\frac{1}{a_2+\\frac{1}{a_3}}}$"
      ]
    },
    {
      "cell_type": "code",
      "metadata": {
        "id": "BWwrsamzakBy",
        "colab_type": "code",
        "colab": {
          "base_uri": "https://localhost:8080/",
          "height": 36
        },
        "outputId": "dd9808b6-3e14-450d-94b8-3e6cdf76ec1d"
      },
      "source": [
        "# Canonical form function\n",
        "def Sqrt_Canon(num):\n",
        "    \"\"\"\n",
        "    Produces the canonical form of the given val.\n",
        "\n",
        "    Args:\n",
        "    - num:int --> represents D\n",
        "\n",
        "    Returns:\n",
        "    - List of quotients.\n",
        "    \"\"\"\n",
        "    # Sub Function\n",
        "    def Interval_Floor(val):\n",
        "        i=1\n",
        "\n",
        "        # Checking validity of val\n",
        "        if val<1:\n",
        "            raise ValueError(f\"Value of val is {val}, must be >= 1.\")\n",
        "        while True:\n",
        "            if i<=val<=i+1:\n",
        "                return i\n",
        "            i+=1\n",
        "\n",
        "    # Initializing the variables\n",
        "    m=0\n",
        "    d=1\n",
        "    a0=a=Interval_Floor(math.sqrt(num))\n",
        "    result=[]\n",
        "    result.append(a)\n",
        "\n",
        "    # Iteration\n",
        "    while True:\n",
        "        m=(d*a)-m # updating m\n",
        "        d=(num-(m**2))/(d) # updating d\n",
        "        _a=(math.sqrt(num)+m)/(d)\n",
        "        a=Interval_Floor(_a) # updating a\n",
        "        result.append(a) # adding the newly computed a to the result list.\n",
        "        if a==(2*a0): # termination condition\n",
        "            break\n",
        "        \n",
        "    # Returning the results\n",
        "    return result\n",
        "\n",
        "# Testing the function\n",
        "Sqrt_Canon(7)"
      ],
      "execution_count": 122,
      "outputs": [
        {
          "output_type": "execute_result",
          "data": {
            "text/plain": [
              "[2, 1, 1, 1, 4]"
            ]
          },
          "metadata": {
            "tags": []
          },
          "execution_count": 122
        }
      ]
    },
    {
      "cell_type": "markdown",
      "metadata": {
        "id": "VNYzu0rKiKNf",
        "colab_type": "text"
      },
      "source": [
        "## Returning the convergents\n",
        "- Eg: $\\frac{43}{19}=2+\\frac{1}{3+\\frac{1}{1+\\frac{1}{4}}}\n",
        "=[2,3,1,4]$\n",
        "- $\\therefore$ the convergents of $\\frac{43}{19}$:\n",
        "    - $\\frac{2}{1}=2$\n",
        "    - $2+\\frac{1}{3}=\\frac{7}{3}$\n",
        "    - $2+\\frac{1}{3+\\frac{1}{1}}=\\frac{9}{4}$\n",
        "    - $2+\\frac{1}{3+\\frac{1}{1+\\frac{1}{4}}}=\\frac{43}{19}$"
      ]
    },
    {
      "cell_type": "code",
      "metadata": {
        "id": "rkr9hg_MiWSl",
        "colab_type": "code",
        "colab": {
          "base_uri": "https://localhost:8080/",
          "height": 36
        },
        "outputId": "c6acb1e6-a183-4993-bf00-853a633e6a1f"
      },
      "source": [
        "def Conv_Func(quo,d):\n",
        "    \"\"\"\n",
        "    Purpose:\n",
        "    - Find the convergent that satisfies the DP equation.\n",
        "\n",
        "    Args:\n",
        "    - quo:List --> List of quotients\n",
        "    - d:int --> D that is used for the computation of the DP equation.\n",
        "\n",
        "    Returns:\n",
        "    - (x,y) that satisfies the DP equation\n",
        "    \"\"\"\n",
        "    quo=list(quo) # make a copy of the original quotient list.\n",
        "\n",
        "    def Inv_Frac(quo):\n",
        "        if len(quo)<2:\n",
        "            return Fraction(quo[0],1)\n",
        "        if len(quo)==2:\n",
        "            a,b=quo[0],quo[1]\n",
        "            return a+Fraction(1,b) # Recursion termination\n",
        "        else:\n",
        "            a=quo.pop(0)\n",
        "            return a+Fraction(1,Inv_Frac(quo)) # Recursive call\n",
        "        \n",
        "    i=1\n",
        "    l=len(quo)\n",
        "    while True:\n",
        "        quo.append(quo[i]) # extending the quotient list \n",
        "        z=Inv_Frac(quo[:i]) # return the corresponding convergent\n",
        "        x,y=z.numerator,z.denominator # unpacking\n",
        "        if (x**2)-(d*(y**2))==1:\n",
        "            return (x,y)\n",
        "        i+=1\n",
        "\n",
        "    \n",
        "\n",
        "# Testing the function\n",
        "Conv_Func([2,1,1,1,4],7)"
      ],
      "execution_count": 123,
      "outputs": [
        {
          "output_type": "execute_result",
          "data": {
            "text/plain": [
              "(8, 3)"
            ]
          },
          "metadata": {
            "tags": []
          },
          "execution_count": 123
        }
      ]
    },
    {
      "cell_type": "markdown",
      "metadata": {
        "id": "EQqcm847nGZa",
        "colab_type": "text"
      },
      "source": [
        "# Solving the problem\n",
        "1. For each respective D, return the list of quotients.\n",
        "2. With the list of quotients, produce the list of convergents.\n",
        "3. Subtitute each list of convergents into the DP equation, and return the correct result."
      ]
    },
    {
      "cell_type": "code",
      "metadata": {
        "id": "-YgyVExdnYai",
        "colab_type": "code",
        "colab": {
          "base_uri": "https://localhost:8080/",
          "height": 55
        },
        "outputId": "a215a6c9-53dc-468d-933a-7f3608e08cce"
      },
      "source": [
        "def Main():\n",
        "    D=[i for i in range(1001) if math.sqrt(i)%1!=0] # list of non-square root numbers.\n",
        "    xMin=[0 for i in range(len(D))] # store the minimum value of x\n",
        "    for i,d in enumerate(D):\n",
        "        quo=Sqrt_Canon(d)\n",
        "        x,y=Conv_Func(quo,d)\n",
        "        xMin[i]=x\n",
        "    xMax=max(xMin)\n",
        "    dMax=D[xMin.index(xMax)]\n",
        "    print(f\"The maximum value of x for D <= 1000 is {xMax} that occurs at D = {dMax}.\")\n",
        "\n",
        "start=time.time()\n",
        "Main()\n",
        "end=time.time()\n",
        "print(f\"The total time taken to solve this problem is {end-start} seconds.\")"
      ],
      "execution_count": 124,
      "outputs": [
        {
          "output_type": "stream",
          "text": [
            "The maximum value of x for D <= 1000 is 16421658242965910275055840472270471049 that occurs at D = 661.\n",
            "The total time taken to solve this problem is 1.0001823902130127 seconds.\n"
          ],
          "name": "stdout"
        }
      ]
    }
  ]
}
