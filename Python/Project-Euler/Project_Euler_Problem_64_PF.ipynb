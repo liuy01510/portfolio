{
  "nbformat": 4,
  "nbformat_minor": 0,
  "metadata": {
    "colab": {
      "name": "Project Euler - Problem 64 (Portfolio).ipynb",
      "provenance": [],
      "collapsed_sections": [],
      "authorship_tag": "ABX9TyP+GVGbPqiThWXq2pDsOhd2",
      "include_colab_link": true
    },
    "kernelspec": {
      "name": "python3",
      "display_name": "Python 3"
    }
  },
  "cells": [
    {
      "cell_type": "markdown",
      "metadata": {
        "id": "view-in-github",
        "colab_type": "text"
      },
      "source": [
        "<a href=\"https://colab.research.google.com/github/liuy01510/portfolio/blob/master/Project_Euler_Problem_64_PF.ipynb\" target=\"_parent\"><img src=\"https://colab.research.google.com/assets/colab-badge.svg\" alt=\"Open In Colab\"/></a>"
      ]
    },
    {
      "cell_type": "markdown",
      "metadata": {
        "id": "EqjdwBiFJomQ",
        "colab_type": "text"
      },
      "source": [
        "# Introduction\n",
        "- Problem statement too lengthy to be included.\n",
        "- View problem from link: https://projecteuler.net/problem=64\n"
      ]
    },
    {
      "cell_type": "markdown",
      "metadata": {
        "id": "GHfDJTdZJw0Y",
        "colab_type": "text"
      },
      "source": [
        "# Importing the required libraries"
      ]
    },
    {
      "cell_type": "code",
      "metadata": {
        "id": "WleOuE4nJ-RS",
        "colab_type": "code",
        "colab": {}
      },
      "source": [
        "import numpy as np\n",
        "import scipy as sp\n",
        "import pandas as pd\n",
        "import collections as coll\n",
        "import math\n",
        "import time"
      ],
      "execution_count": 0,
      "outputs": []
    },
    {
      "cell_type": "markdown",
      "metadata": {
        "id": "PBGBShzuKFj-",
        "colab_type": "text"
      },
      "source": [
        "# Problem Discussion\n",
        "- 2 phases --> Evaluation phase & checking phase\n",
        "\n",
        "## Evaluation Phase \n",
        "- Evalute the next set of fractions\n",
        "\n",
        "### Evaluation Phase steps\n",
        "1. Determine $a_0$ --> initial number\n",
        "2. Determine the fraction generated from $a_0$\n",
        "3. Rationalize the generated fraction.\n",
        "4. Determine $a_1$ from the rationalized fraction.\n",
        "5. Factorize out $a_1$ from the rationalized fraction.\n",
        "6. Invert the fraction.\n",
        "7. Check if the inverted fraction has been previously evaluted or not.\n",
        "- If previously evaluated, terminate the calculation and return the result.\n",
        "- Else, repeat steps 1 to 7 for $a_2,a_3,...$ until the above condition is met.\n",
        "\n",
        "\n",
        "## Checking phase \n",
        "- Checks if the sequence has been repeating."
      ]
    },
    {
      "cell_type": "markdown",
      "metadata": {
        "id": "8S3qCdMaKKMF",
        "colab_type": "text"
      },
      "source": [
        "# Functions creation\n",
        "- Creating the required functions for the project."
      ]
    },
    {
      "cell_type": "code",
      "metadata": {
        "id": "ZunK0itZjNjm",
        "colab_type": "code",
        "outputId": "5c3148ba-bb87-4414-cc6d-b28b538e00de",
        "colab": {
          "base_uri": "https://localhost:8080/",
          "height": 55
        }
      },
      "source": [
        "# Create a class to calculate the continuted fraction for each sqrt number\n",
        "\n",
        "class Fraction():\n",
        "\n",
        "    def __init__(self,num,sqrtNum,denom,sqrtDenom,multiplier=1):\n",
        "        self.num=num\n",
        "        self.sqrtNum=sqrtNum\n",
        "        self.denom=denom\n",
        "        self.sqrtDenom=sqrtDenom\n",
        "        self.rationalizedCount=0\n",
        "        self.multiplier=multiplier\n",
        "\n",
        "    def evaluate(self):\n",
        "        self.numerator=self.num+math.sqrt(self.sqrtNum)\n",
        "        self.denominator=self.denom+math.sqrt(self.sqrtDenom)\n",
        "        self.value=(self.numerator/self.denominator)*(self.multiplier)\n",
        "        \n",
        "    \n",
        "    def rationalize(self):\n",
        "        self.multiplier*=self.num\n",
        "        self.num=1 # shifted the num to multiplier\n",
        "        if self.denom<0: \n",
        "            self.num=abs(self.denom)\n",
        "            self.sqrtNum=self.sqrtDenom\n",
        "            self.denom=-1*((self.denom)**2)+abs(self.sqrtDenom)\n",
        "        elif self.sqrtDenom<0:\n",
        "            self.num=self.denom\n",
        "            self.sqrtNum=abs(self.sqrtDenom)\n",
        "            self.denom=(self.denom)**2+self.sqrtDenom\n",
        "        else: # if both the sqrt num and the constant in the denominator are >0.\n",
        "            self.num=-1*self.denom\n",
        "            self.sqrtNum=self.sqrtDenom\n",
        "            self.denom=-1*(self.denom)**2+abs(self.sqrtDenom)\n",
        "        self.sqrtDenom=0\n",
        "        self.denom=self.denom/self.multiplier\n",
        "        self.multiplier=1\n",
        "        self.rationalizedCount+=1\n",
        "    \n",
        "    def __repr__(self):\n",
        "        return f\"Fraction(num={self.num},\\\n",
        "sqrtNum={self.sqrtNum},denom={self.denom},sqrtDenom={self.sqrtDenom},multiplier={self.multiplier})\"\n",
        "\n",
        "    def inverse(self):\n",
        "        self.num,self.sqrtNum,self.denom,self.sqrtDenom=\\\n",
        "        (self.denom,self.sqrtDenom,self.num,self.sqrtNum)\n",
        "\n",
        "\n",
        "class Sqrt_Frac():\n",
        "\n",
        "    def __init__(self,number:int):\n",
        "        self.number=number\n",
        "        x=1\n",
        "        self.a0=0\n",
        "        self.aVals=[]\n",
        "        self.fracList=[]\n",
        "        self.seqLength=0\n",
        "\n",
        "        # computing the initial a0.\n",
        "        while True:\n",
        "            if x**2<self.number<(x+1)**2:\n",
        "                self.a0=x # append to the list of divisors\n",
        "                self.frac=Fraction(1,0,-1*(self.a0),self.number,1) # create the new fraction number\n",
        "                break # break out of the loop.\n",
        "            x+=1\n",
        "        \n",
        "        # Computing the remaining a values.\n",
        "        while True:\n",
        "            self.frac.rationalize() # rationalize the fraction)\n",
        "            self.frac.evaluate()\n",
        "            x=1\n",
        "            while True:\n",
        "                if x<self.frac.value<x+1:\n",
        "                    self.aVals.append(math.floor(x))\n",
        "                    self.frac.num+=-1*(x*self.frac.denom)\n",
        "                    break\n",
        "                x+=1\n",
        "            self.frac.inverse()\n",
        "            if self.frac.__repr__() in self.fracList: # check if the fraction has already been evaluated previously.\n",
        "                self.seqLength=len(self.aVals[:-1]) # if already evaluated previously, then the loop is completed.\n",
        "                break\n",
        "            else:\n",
        "                self.fracList.append(self.frac.__repr__())\n",
        "                \n",
        "def Main():\n",
        "    count=0\n",
        "    for x in range(10000+1):\n",
        "        if math.sqrt(x)%1!=0:\n",
        "            result=Sqrt_Frac(x)\n",
        "            if result.seqLength%2==1:\n",
        "                count+=1\n",
        "    print(f\"The total count of odd periods is {count}.\")\n",
        "            \n",
        "start=time.time()\n",
        "Main()\n",
        "end=time.time()\n",
        "print(f\"The time taken to solve this problem is {end-start} seconds.\")\n",
        "\n",
        "            \n",
        "        \n",
        "\n"
      ],
      "execution_count": 10,
      "outputs": [
        {
          "output_type": "stream",
          "text": [
            "The total count of odd periods is 1322.\n",
            "The time taken to solve this problem is 2.0816850662231445 seconds.\n"
          ],
          "name": "stdout"
        }
      ]
    }
  ]
}
