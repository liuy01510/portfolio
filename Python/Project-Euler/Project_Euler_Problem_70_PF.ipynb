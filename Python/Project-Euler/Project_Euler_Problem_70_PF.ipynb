{
  "nbformat": 4,
  "nbformat_minor": 0,
  "metadata": {
    "colab": {
      "name": "Project Euler - Problem 70.ipynb",
      "provenance": [],
      "collapsed_sections": [],
      "authorship_tag": "ABX9TyMO7V7pDSygbUxGdz+aUaho",
      "include_colab_link": true
    },
    "kernelspec": {
      "name": "python3",
      "display_name": "Python 3"
    }
  },
  "cells": [
    {
      "cell_type": "markdown",
      "metadata": {
        "id": "view-in-github",
        "colab_type": "text"
      },
      "source": [
        "<a href=\"https://colab.research.google.com/github/liuy01510/portfolio/blob/master/Python/Project-Euler/Project_Euler_Problem_70_PF.ipynb\" target=\"_parent\"><img src=\"https://colab.research.google.com/assets/colab-badge.svg\" alt=\"Open In Colab\"/></a>"
      ]
    },
    {
      "cell_type": "markdown",
      "metadata": {
        "id": "iuK9X3ezxStX",
        "colab_type": "text"
      },
      "source": [
        "# Introduction\n",
        "- Find $n$ where $\\phi(n)$ is a permutation of $n$.\n",
        "    - Condition $\\rightarrow$ minimize $\\frac{n}{\\phi(n)}$"
      ]
    },
    {
      "cell_type": "markdown",
      "metadata": {
        "id": "XDbo4nv59aQT",
        "colab_type": "text"
      },
      "source": [
        "## Solution derivation\n",
        "- In order to minimize $\\frac{n}{\\phi(n)}$, $n$ must be minimized while $\\phi(n)$ must be maximized.\n",
        "    - Recall that $\\frac{n}{\\phi(n)}=\\frac{1}{\\prod \\left(1-\\frac{1}{p_i} \\right)}$\n",
        "    - Therefore, to minimize $\\frac{n}{\\phi(n)}$ by maximizing $\\phi(n)$, the number of product terms in the denominator must be minimized since each product term < 1.\n",
        "    - Also, $p_i$ should be maximized.\n",
        "- $\\therefore$ Starting with the largest prime factor, perform the computation of $\\phi(n)$ and permute the result until the condition is met."
      ]
    },
    {
      "cell_type": "markdown",
      "metadata": {
        "id": "9YIxsPFb9cPc",
        "colab_type": "text"
      },
      "source": [
        "# Importing modules"
      ]
    },
    {
      "cell_type": "code",
      "metadata": {
        "id": "YKJTWGIdAZD4",
        "colab_type": "code",
        "colab": {}
      },
      "source": [
        "# GENERAL MODULES #\n",
        "import collections as coll\n",
        "import requests\n",
        "from numba import jit\n",
        "from math import sqrt, ceil\n",
        "from time import time\n",
        "import numpy as np"
      ],
      "execution_count": 29,
      "outputs": []
    },
    {
      "cell_type": "markdown",
      "metadata": {
        "id": "UOXsm0FE_Yif",
        "colab_type": "text"
      },
      "source": [
        "## Importing functions written in Problem 69"
      ]
    },
    {
      "cell_type": "code",
      "metadata": {
        "id": "dHVvYUhY_dd6",
        "colab_type": "code",
        "colab": {}
      },
      "source": [
        "url='https://raw.githubusercontent.com/liuy01510/portfolio/master/Python/Project-Euler/Project_Euler_Problem_69_(PF).ipynb'\n",
        "def Import_Notebook(url,file_name):\n",
        "    \"\"\"\n",
        "    Used for importing jupyter notebooks from Github. Currently only supports public notebooks.\n",
        "\n",
        "    Args:\n",
        "\n",
        "    - url:str = Url to the jupyter notebook to be imported.\n",
        "\n",
        "    - file_name:str = Name of the file for the jupyter notebook to be saved as.\n",
        "    \"\"\"\n",
        "    #GETTING THE FILE FROM GITHUB#\n",
        "    url=url\n",
        "    req=requests.get(url)\n",
        "    res=req.content\n",
        "    with open(f'/content/{file_name}.ipynb','wb') as f:\n",
        "        f.write(res)\n",
        "\n",
        "    #CONVERTING TO .PY FILETYPE AND IMPORTING IT#\n",
        "    !jupyter nbconvert --to script Problem_69.ipynb # convert to .txt file\n",
        "    try:\n",
        "        !mv Problem_69.txt Problem_69.py # convert from .txt to .py extension\n",
        "    except:\n",
        "        pass\n",
        "\n",
        "#IMPORTING THE MODULES REQUIRED#\n",
        "try:\n",
        "    from Problem_69 import Prime_Sieve\n",
        "except:\n",
        "    Import_Notebook(url,'Problem_69')\n",
        "    from Problem_69 import Prime_Sieve"
      ],
      "execution_count": 30,
      "outputs": []
    },
    {
      "cell_type": "markdown",
      "metadata": {
        "id": "FOgiPGtBDh6n",
        "colab_type": "text"
      },
      "source": [
        "# Defining Functions\n",
        "- The Prime_Sieve function imported from Problem 69 is too slow to generate all possible primes until $10^7$.\n",
        "    - Therefore, a new prime number generator function has to be written that can handle the generation of primes in descending order from a given upper limit."
      ]
    },
    {
      "cell_type": "code",
      "metadata": {
        "id": "xLfZ1bQEHRiN",
        "colab_type": "code",
        "colab": {}
      },
      "source": [
        "@jit(nopython=True)\n",
        "def Prime_Number_Generator(ul=None,order='asc'):\n",
        "    \"\"\"\n",
        "    Generator function for prime numbers.\n",
        "\n",
        "    Args:\n",
        "\n",
        "    - ul:int = Upper limit of the generator function. \n",
        "    Optional if order=='asc', required if order=='desc'\n",
        "\n",
        "    - order:'asc','desc' = Determines the order of generation of the prime numbers.\n",
        "\n",
        "    Returns:\n",
        "\n",
        "    - result:int = Prime number.\n",
        "\n",
        "    Performance:\n",
        "\n",
        "    - Around 1.65s for ul==10**15 (Colab). Not recommended for use above this limit.\n",
        "    \"\"\"\n",
        "\n",
        "    def Prime_Test(num):\n",
        "        if (num==2) or (num==3):\n",
        "            return True\n",
        "        if num%2==0: # even number\n",
        "            return False\n",
        "        if num%3==0:\n",
        "            return False\n",
        "        \n",
        "        # prime test divisors\n",
        "        k=1\n",
        "        div=[]\n",
        "        while (6*k)-1<sqrt(num):\n",
        "            a,b=(6*k)+1,(6*k)-1\n",
        "            div.append(a)\n",
        "            div.append(b)\n",
        "            k+=1\n",
        "\n",
        "        # prime test\n",
        "        for d in div:\n",
        "            if num%d==0:\n",
        "                return False # divisible by a prime\n",
        "        return True # non-divisible by any primes\n",
        "\n",
        "    # Adjusting to odd number\n",
        "    if ul%2==0:\n",
        "        ul=ul-1 # change to odd number\n",
        "    \n",
        "    if order=='asc':\n",
        "        i=3\n",
        "        yield i-1 # yields 2\n",
        "        while True:\n",
        "            if Prime_Test(i):\n",
        "                yield i\n",
        "            i+=2\n",
        "            if (ul!=None) and (i>ul):\n",
        "                raise StopIteration\n",
        "\n",
        "    if order=='desc':\n",
        "        i=ul\n",
        "        while True:\n",
        "            if Prime_Test(i):\n",
        "                yield i\n",
        "            i+=-2\n",
        "            if i==3:\n",
        "                yield i # yields 3\n",
        "                yield i-1 # yields 2\n",
        "                raise StopIteration"
      ],
      "execution_count": 31,
      "outputs": []
    },
    {
      "cell_type": "code",
      "metadata": {
        "id": "Q8xEveDJIUkg",
        "colab_type": "code",
        "colab": {}
      },
      "source": [
        "# Prime_Factors function - Return the prime factors of a given number\n",
        "def Prime_Factors(num):\n",
        "    \"\"\"\n",
        "    Gets the prime factors for a non-prime number.\n",
        "\n",
        "    Args:\n",
        "\n",
        "    - num:int = Non-prime number to find the prime factors for.\n",
        "\n",
        "    Returns:\n",
        "\n",
        "    - res:list = List of prime factors.\n",
        "    \"\"\"\n",
        "    n=num\n",
        "    primes=Prime_Number_Generator(num)\n",
        "    p=next(primes)\n",
        "    res=[]\n",
        "    while n!=1:\n",
        "        if n%p==0:\n",
        "            res.append(p)\n",
        "            n=int(n/p)\n",
        "            continue\n",
        "        else:\n",
        "            p=next(primes)\n",
        "    return res\n",
        "\n",
        "def Euler_Toitent(num,primes=None):\n",
        "    \"\"\"\n",
        "    Gets the Euler Toitent value for a specific number.\n",
        "\n",
        "    Args:\n",
        "\n",
        "    - num:int = Number to find the Euler Toitent value for.\n",
        "\n",
        "    Returns:\n",
        "\n",
        "    - n:int = Euler Toitent value.\n",
        "    \"\"\"\n",
        "    n=num\n",
        "    if primes==None:\n",
        "        primes=set(Prime_Factors(num))\n",
        "    else:\n",
        "        primes=set(primes)\n",
        "    for p in primes:\n",
        "        n*=(1-(1/p))\n",
        "    return int(n)"
      ],
      "execution_count": 32,
      "outputs": []
    },
    {
      "cell_type": "markdown",
      "metadata": {
        "id": "l0PmX8ywFAHd",
        "colab_type": "text"
      },
      "source": [
        "# Permutation check function"
      ]
    },
    {
      "cell_type": "code",
      "metadata": {
        "id": "5hlXEOmzFEZj",
        "colab_type": "code",
        "colab": {}
      },
      "source": [
        "def Permutations_Check(str1,str2):\n",
        "    \"\"\"\n",
        "    Checks if 2 strings are permutations of each other.\n",
        "\n",
        "    Args:\n",
        "\n",
        "    - str1:str = 1st string to check.\n",
        "\n",
        "    - str2:str = 2nd string to be counter checked against the 1st string.\n",
        "\n",
        "    Returns:\n",
        "\n",
        "    - result:bool = True if str 1 and str2 are permutations of each other.\n",
        "    \"\"\"\n",
        "    a,b=coll.Counter(str1),coll.Counter(str2)\n",
        "    return True if a==b else False"
      ],
      "execution_count": 33,
      "outputs": []
    },
    {
      "cell_type": "markdown",
      "metadata": {
        "id": "6t7EQddzGvp9",
        "colab_type": "text"
      },
      "source": [
        "# Solution"
      ]
    },
    {
      "cell_type": "code",
      "metadata": {
        "id": "pG6VGCqnQTXF",
        "colab_type": "code",
        "colab": {
          "base_uri": "https://localhost:8080/",
          "height": 55
        },
        "outputId": "db3e2fbc-971f-4b73-dd77-78939a2b2d5d"
      },
      "source": [
        "def Main():\n",
        "    #INITIALIZE VARIABLES#\n",
        "    lowPrimes=Prime_Number_Generator(ul=10**7,order='asc')\n",
        "    lPrime=next(lowPrimes)\n",
        "    results=[]\n",
        "\n",
        "    #INITIALIZE LOOP#\n",
        "    while True:\n",
        "        uPrimeLim=ceil((10**7)/lPrime)\n",
        "        for uPrime in Prime_Number_Generator(ul=uPrimeLim,order='desc'):\n",
        "            if uPrime<lPrime:\n",
        "                break # break the for loop\n",
        "            n=uPrime*lPrime\n",
        "            eT=Euler_Toitent(n,[lPrime,uPrime])\n",
        "            if Permutations_Check(str(n),str(eT)):\n",
        "                results.append((n,eT,n/eT))\n",
        "        if lPrime>sqrt(10**7):\n",
        "            break\n",
        "        lPrime=next(lowPrimes)\n",
        "    \n",
        "    #RESULT#\n",
        "    result=sorted(results,key=lambda x:x[2],reverse=False)[0]\n",
        "    n,eT,ratio=result\n",
        "    print(f\"The number {n} produces a permuted Euler Toitent value of {eT}, with the smallest ratio of {ratio}.\")\n",
        "\n",
        "start=time()\n",
        "Main()\n",
        "end=time()\n",
        "print(f\"The total time taken to solve Problem 70 is {end-start} seconds.\")"
      ],
      "execution_count": 34,
      "outputs": [
        {
          "output_type": "stream",
          "text": [
            "The number 8319823 produces a permuted Euler Toitent value of 8313928, with the smallest ratio of 1.0007090511248113.\n",
            "The total time taken to solve Problem 70 is 41.73289728164673 seconds.\n"
          ],
          "name": "stdout"
        }
      ]
    },
    {
      "cell_type": "markdown",
      "metadata": {
        "id": "48omyoWl_Z4G",
        "colab_type": "text"
      },
      "source": [
        "# Discussion\n",
        "- This problem was quite challenging, and required siginificantly more research than the other problems.\n",
        "- Furthermore, there seems to be a potential problem with the phrasing of the question that causes it to be unsolvable if no assumptions were made.\n",
        "    - In this solution method, the algorithm makes the assumption that the lowest $\\frac{n}{\\phi(n)}$ comes from a pair of prime factors, and not a group of $\\geq 3$ prime factors.\n",
        "    - This assumption is required in order to avoid searching through all possible group sizes of prime factors, which would be equivalent to computing the prime factors of each non-prime digit individually (infeasible).\n",
        "    - However, just because a solution is found from a pair of prime factors, it does not guarantee that this is the optimal solution since there may be other groups of prime factors that may have a smaller $\\frac{n}{\\phi(n)}$ ratio than what was produced from the prime pair.\n",
        "- However, since again it would be infeasible to compute all the prime factors for $1 \\leq n \\leq 10^7$, combined with the fact that a increase in prime factors is likely to cause the ratio to be deviate from the minimum, this solution is accepted as the most likely solution."
      ]
    },
    {
      "cell_type": "code",
      "metadata": {
        "id": "EqxyEo8hBsd6",
        "colab_type": "code",
        "colab": {}
      },
      "source": [
        ""
      ],
      "execution_count": 34,
      "outputs": []
    }
  ]
}