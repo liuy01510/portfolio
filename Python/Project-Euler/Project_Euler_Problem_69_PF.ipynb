{
  "nbformat": 4,
  "nbformat_minor": 0,
  "metadata": {
    "colab": {
      "name": "Project Euler - Problem 69 (PF).ipynb",
      "provenance": [],
      "collapsed_sections": [],
      "authorship_tag": "ABX9TyOfe6CE/5oW1/7V7tDfyvHt",
      "include_colab_link": true
    },
    "kernelspec": {
      "name": "python3",
      "display_name": "Python 3"
    }
  },
  "cells": [
    {
      "cell_type": "markdown",
      "metadata": {
        "id": "view-in-github",
        "colab_type": "text"
      },
      "source": [
        "<a href=\"https://colab.research.google.com/github/liuy01510/portfolio/blob/master/Python/Project-Euler/Project_Euler_Problem_69_(PF).ipynb\" target=\"_parent\"><img src=\"https://colab.research.google.com/assets/colab-badge.svg\" alt=\"Open In Colab\"/></a>"
      ]
    },
    {
      "cell_type": "markdown",
      "metadata": {
        "id": "vvll4rwI99ua",
        "colab_type": "text"
      },
      "source": [
        "# Introduction\n",
        "- Requires the calculation of the relative primes of each number (n) for n $\\leq 10^6$.\n",
        "- Performing brute-force method would likely take too long to solve.\n",
        "- Requires the use of the general formula.\n",
        "\n",
        "## General formula\n",
        "Let $\\phi (n)$ be the number of primes that are relative to n.\n",
        "\n",
        "Therefore, $\\phi (n)$ can be determined with the following formula:\n",
        "\n",
        "Given that $n=\\prod_{i=1}^{j}p_i^{a_i}$ where $p_i$ is a prime factor of $n$,\n",
        "\n",
        "\\begin{equation}\n",
        "\\phi (n) = n \\cdot \\prod_{i=1}^{j} \\left(1-\\frac{1}{p_i} \\right)\n",
        "\\end{equation}"
      ]
    },
    {
      "cell_type": "markdown",
      "metadata": {
        "id": "nXGQ5UmnAHbF",
        "colab_type": "text"
      },
      "source": [
        "# Solution Procedure\n",
        "1. For each n, determine their corresponding prime factors.\n",
        "2. Substitute their prime factors into the general formula given to determine $\\phi (n)$.\n",
        "3. Compute $\\frac{n}{\\phi(n)}$.\n",
        "4. If larger than current max, store $n$ and $\\frac{n}{\\phi(n)}$ as the new maximum."
      ]
    },
    {
      "cell_type": "markdown",
      "metadata": {
        "id": "_97A-WaRBDII",
        "colab_type": "text"
      },
      "source": [
        "# Importing the required modules\n",
        "\n"
      ]
    },
    {
      "cell_type": "code",
      "metadata": {
        "id": "Cud_JG6ZBLv7",
        "colab_type": "code",
        "colab": {}
      },
      "source": [
        "import numpy as np\n",
        "import scipy as sp\n",
        "import collections as coll\n",
        "from numba import jit\n",
        "import time"
      ],
      "execution_count": 0,
      "outputs": []
    },
    {
      "cell_type": "markdown",
      "metadata": {
        "id": "1tXoBqN4BOj3",
        "colab_type": "text"
      },
      "source": [
        "# Prime Factors Formula"
      ]
    },
    {
      "cell_type": "code",
      "metadata": {
        "id": "2GpXDW2PBXa6",
        "colab_type": "code",
        "colab": {}
      },
      "source": [
        "\n",
        "def Prime_Factors(n,returnType='counter'):\n",
        "    \"\"\"\n",
        "    Obtains the prime factors for a number.\n",
        "\n",
        "    Should be used only for non-prime numbers. Passing in a prime number will return an empty dict.\n",
        "\n",
        "    Args:\n",
        "    - n:int = Number to be prime factorized.\n",
        "\n",
        "    - returnType:'counter' or 'list' = Determines the data type of the result returned. Default is 'counter', which\\\n",
        "will return a collections counter object. \n",
        "\n",
        "    Returns:\n",
        "    - A collections Counter dict, which has the key-value pair of 'prime':'occurences'.\n",
        "\n",
        "    \"\"\"\n",
        "\n",
        "    # Initializing the variables\n",
        "    primes=Prime_Number_Generator()\n",
        "    i=next(primes)\n",
        "    result=[]\n",
        "    _n=n # used for division\n",
        "\n",
        "    # Checking the factors\n",
        "    while i<=_n: # terminates when i>=n\n",
        "        if (_n/i)%1==0: # perfect division\n",
        "            _n=_n/i \n",
        "            result.append(i) # add to result list\n",
        "            continue # continue without incrementing i.\n",
        "        else:\n",
        "            i=next(primes) # get the next prime candidate to try\n",
        "\n",
        "    # Removing the original n value if present in list\n",
        "    try:\n",
        "        result.remove(n)\n",
        "    except:\n",
        "        pass\n",
        "        \n",
        "    # Returning the results\n",
        "    if returnType=='counter':\n",
        "        return coll.Counter(result)\n",
        "    elif returnType=='list':\n",
        "        return result\n",
        "\n",
        "\n",
        "def Prime_Sieve(ul):\n",
        "    \"\"\"\n",
        "    Args:\n",
        "    - ul:int = Upper Limit of the prime sieve.\n",
        "\n",
        "    Returns:\n",
        "    - result = List of prime numbers up till the upper limit.\n",
        "    \"\"\"\n",
        "    # Known conditions\n",
        "    if ul<=1:\n",
        "        return np.array([])\n",
        "    elif ul==2:\n",
        "        return np.array([2])\n",
        "    elif ul==3:\n",
        "        return np.array([2,3])\n",
        "\n",
        "    # Forming the initial array\n",
        "    ini=np.arange(3,ul,2) # creating the initial array with odd values only.\n",
        "    result=ini.copy() # make a copy for the array\n",
        "\n",
        "    # Looping through the array to eliminate non-primes\n",
        "    i=0 # initial position value.\n",
        "    while (ini[i])**2<max(result):\n",
        "        x=ini[i]\n",
        "        x2=x**2\n",
        "        comp=np.arange(x2,max(result)+1,x) # comparison array\n",
        "        result=np.setdiff1d(result,comp) # returns result that removes the common elements & sorted.\n",
        "        i+=1\n",
        "\n",
        "    # Adding 2 to the start of the array\n",
        "    result=np.insert(result,0,2)\n",
        "\n",
        "    return result\n",
        "\n",
        "def Prime_Number_Generator():\n",
        "    \"\"\"\n",
        "    Continually generate a list of prime numbers.\n",
        "\n",
        "    Do not use this function if a list of primes must be generated. Use the Prime_Sieve function instead that is faster and more efficient.\n",
        "    \"\"\"\n",
        "    # initial prime number\n",
        "    i=2\n",
        "    yield i\n",
        "    primes=set()\n",
        "\n",
        "    # following prime numbers\n",
        "    primes.add(i)\n",
        "    i+=1 # i==3\n",
        "    while True:\n",
        "        pFlag=all([(i/j)%1!=0 for j in primes]) # returns True if the current i cannot be divided by the past prime values.\n",
        "        if pFlag:\n",
        "            yield i\n",
        "            primes.add(i)\n",
        "        i+=1\n",
        "\n",
        "def Euler_Toitent(n):\n",
        "    \"\"\"\n",
        "    Determines the Euler Toitent value for the integer n.\n",
        "\n",
        "    Args:\n",
        "\n",
        "    - n:int = Number to determine the Euler Toitent function value.\n",
        "\n",
        "    Returns:\n",
        "\n",
        "    - prdt:int = Euler toitent value for number n.\n",
        "    \"\"\"\n",
        "    primes=set(Prime_Factors(n,returnType='list'))\n",
        "\n",
        "    if len(primes)==0: # indicates that it is a prime number\n",
        "        return int(n-1)\n",
        "\n",
        "    prdt=1\n",
        "    for p in primes:\n",
        "        prdt*=1-(1/p)\n",
        "    prdt*=n\n",
        "    return int(prdt)"
      ],
      "execution_count": 0,
      "outputs": []
    },
    {
      "cell_type": "markdown",
      "metadata": {
        "id": "X76ZeTifwJt4",
        "colab_type": "text"
      },
      "source": [
        "# Alternate solution procedure\n",
        "\n",
        "- After attempting to check all the non-prime numbers using the Euler_Toitent function, it was found that the algorithm was too slow to completely check all the values for $n \\leq 1000000$.\n",
        "\n",
        "- Therefore, the brute force method is not feasible. An alternative solution method must be developed.\n",
        "\n",
        "## Mathematical solution\n",
        "\n",
        "- Based on the above formula, it can be seen that the result for $\\frac{n}{\\phi(n)}$ can be written as follows:\n",
        "\n",
        "\\begin{equation}\n",
        "\\frac{n}{\\phi(n)}\n",
        "=\\frac{n}{n \\cdot \\prod \\left(1-\\frac{1}{p_i}\\right)}\n",
        "=\\frac{1}{\\prod \\left(1-\\frac{1}{p_i} \\right)}\n",
        "\\end{equation}\n",
        "\n",
        "- $\\therefore$ In order to maximize $\\frac{n}{\\phi(n)}$ , the number of $p_i$ should increase, and the value of each $p_i$ term should also be maximized.\n",
        "\n",
        "- Also, it was noted that only unique $p_i$ terms were considered within the formula to compute $\\frac{n}{\\phi(n)}$. \n",
        "    - For instance, $n_6=(2,3)$ while $n_{12}=(2,2,3)$, \n",
        "    but both their $\\frac{n}{\\phi(n)}$ values are 3.\n",
        "    - Therefore, in this case since the limit is $n\\leq 1000000$, the smaller $n$ value with the same number of unique prime factors is preferential.\n",
        "\n",
        "- In this case, the result for $\\frac{n}{\\phi(n)}$ is given \n",
        "as $\\frac{n}{n-1}$. \n",
        "\n",
        "\\begin{equation}\n",
        "\\therefore \\lim_{n \\to \\infty} \\frac{n}{n-1}=1 \\\\\n",
        "\\therefore \\text{prime numbers should not be considered in the maximization of }\n",
        "\\frac{n}{\\phi(n)}\n",
        "\\end{equation}\n",
        "\n"
      ]
    },
    {
      "cell_type": "code",
      "metadata": {
        "id": "vylyaOYRqLYI",
        "colab_type": "code",
        "colab": {
          "base_uri": "https://localhost:8080/",
          "height": 55
        },
        "outputId": "b14820b3-deba-48ac-de0d-7cbc193b1063"
      },
      "source": [
        "def Main():\n",
        "\n",
        "    # CREATE THE PRIME GENERATION OBJECT\n",
        "    primes=Prime_Number_Generator()\n",
        "\n",
        "    # CREATE A LOOP THAT WILL BE TERMINATED WHEN N>1000000\n",
        "    i=next(primes)\n",
        "    n=1\n",
        "    result=set()\n",
        "    ul=1000000\n",
        "    while True:\n",
        "        result.add(i)\n",
        "        n*=i\n",
        "        ## TERMINATION CONDITION\n",
        "        if n>ul:\n",
        "            result.remove(i) # remove the previous multiple\n",
        "            n*=1/i # divide by the previous multiple\n",
        "            break # break out of the while loop\n",
        "        i=next(primes)\n",
        "    \n",
        "    # RETURN THE RESULT #\n",
        "    eT=1\n",
        "    for i in result:\n",
        "        eT*=1-(1/i) # denominator product\n",
        "    eT=1/eT # inverse\n",
        "\n",
        "    print(f\"The maximum value of n/phi(n) is {int(n)}={eT}.\")\n",
        "\n",
        "\n",
        "if __name__=='__main__':\n",
        "    start=time.time()\n",
        "    Main()\n",
        "    end=time.time()\n",
        "    print(f\"The solution was found in {end-start} seconds.\")"
      ],
      "execution_count": 17,
      "outputs": [
        {
          "output_type": "stream",
          "text": [
            "The maximum value of n/phi(n) is 510510=5.539388020833332.\n",
            "The solution was found in 0.00012683868408203125 seconds.\n"
          ],
          "name": "stdout"
        }
      ]
    },
    {
      "cell_type": "markdown",
      "metadata": {
        "id": "AttqI03Rucsl",
        "colab_type": "text"
      },
      "source": [
        "# Discussion\n",
        "\n",
        "- Initially, the problem was attempted to be solved by generating all the prime divisors for each value and comparing them individually.\n",
        "    - However, this was too computationally intensive, and thus another method had to be employed.\n",
        "\n",
        "- Using the revised mathematical method, the solution was found in a reasonable amount of computational time."
      ]
    }
  ]
}
