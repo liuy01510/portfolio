{
  "nbformat": 4,
  "nbformat_minor": 0,
  "metadata": {
    "colab": {
      "name": "Python/Project-Euler/Problem 71.ipynb",
      "provenance": [],
      "authorship_tag": "ABX9TyMa+d4pMFDPn4vV77AGwup+",
      "include_colab_link": true
    },
    "kernelspec": {
      "name": "python3",
      "display_name": "Python 3"
    }
  },
  "cells": [
    {
      "cell_type": "markdown",
      "metadata": {
        "id": "view-in-github",
        "colab_type": "text"
      },
      "source": [
        "<a href=\"https://colab.research.google.com/github/liuy01510/portfolio/blob/master/Python/Project-Euler/Problem_71.ipynb\" target=\"_parent\"><img src=\"https://colab.research.google.com/assets/colab-badge.svg\" alt=\"Open In Colab\"/></a>"
      ]
    },
    {
      "cell_type": "markdown",
      "metadata": {
        "id": "iOJJfLmjoVOj",
        "colab_type": "text"
      },
      "source": [
        "# Importing Modules"
      ]
    },
    {
      "cell_type": "code",
      "metadata": {
        "id": "6JOUk_y3ojTu",
        "colab_type": "code",
        "colab": {}
      },
      "source": [
        "import collections as coll\n",
        "from fractions import Fraction as frac\n",
        "from time import time"
      ],
      "execution_count": 33,
      "outputs": []
    },
    {
      "cell_type": "markdown",
      "metadata": {
        "id": "Qo2Djoaqow58",
        "colab_type": "text"
      },
      "source": [
        "# Solution derivation\n",
        "- After slight testing, it was found that $\\frac{3}{7}==\\frac{3*142857}{999999}=\\frac{428571}{999999}$\n",
        "- In order to find values lower than $\\frac{428571}{999999}$\n",
        "    - Decrease the numerator value.\n",
        "    - Increase the denominator value.\n",
        "    - Simultaneously decrease the numerator and denominator values.\n",
        "- Since the denominator value cannot be increased any further, the 2nd option is infeasible.\n",
        "- Since lowering the numerator value only while maintaining the denominator value would result in a large differential that may not account for potential values between, the 1st option is also infeasible.\n",
        "- Therefore, the third option is the only feasible solution method.\n",
        "- Lower boundary @ $\\frac{2}{5}$"
      ]
    },
    {
      "cell_type": "code",
      "metadata": {
        "id": "EnmamW4Mp77i",
        "colab_type": "code",
        "colab": {
          "base_uri": "https://localhost:8080/",
          "height": 55
        },
        "outputId": "b5e155da-2621-425b-d9d6-23d430abb49d"
      },
      "source": [
        "def Main():\n",
        "    #DEFINING THE START AND END BOUNDS#\n",
        "    start=frac(428571,999999)\n",
        "    end=frac(2,5)\n",
        "\n",
        "    #STEPPING DOWN THE DENOMINATOR#\n",
        "    num=428571\n",
        "    denom=999998\n",
        "    f=frac(num,denom)\n",
        "    result=0\n",
        "    minVal=1\n",
        "    while f>end:\n",
        "\n",
        "        #Drop numerator until the fraction falls under 3/7#\n",
        "        while frac(num,denom)>=start:\n",
        "            num+=-1\n",
        "        \n",
        "        f=frac(num,denom) # lowest frac closest to the left of 3/7\n",
        "        if start-f<minVal:\n",
        "            minVal=start-f\n",
        "            result=f\n",
        "        \n",
        "        # Step down the denominator\n",
        "        denom+=-1\n",
        "\n",
        "    print(f\"The smallest fraction to the left of 3/7 is {result.numerator}/{result.denominator}.\")\n",
        "\n",
        "if __name__=='__main__':\n",
        "    start=time()\n",
        "    result=Main()\n",
        "    end=time()\n",
        "    print(f\"The total time taken to solve this problem is {end-start} seconds.\")"
      ],
      "execution_count": 34,
      "outputs": [
        {
          "output_type": "stream",
          "text": [
            "The smallest fraction to the left of 3/7 is 428570/999997.\n",
            "The total time taken to solve this problem is 11.231725931167603 seconds.\n"
          ],
          "name": "stdout"
        }
      ]
    },
    {
      "cell_type": "markdown",
      "metadata": {
        "id": "i7RtnRiDwYDb",
        "colab_type": "text"
      },
      "source": [
        "# Discussion\n",
        "- This problem was relatively easy due to the availability of Python's Fraction modules, which allows for the automatic factorization of the numerator and denominators.\n",
        "- This method still appears to be reliant on some sort of brute-force algorithm, thus other more mathematical-based algorithms may be designed in the future when this problem is revisited.\n",
        "    - However, since the problem can be solved in a reasonable amount of time ($\\sim$11 secs), thus there is no current need to brainstorm and implement an alternative algorithm."
      ]
    }
  ]
}