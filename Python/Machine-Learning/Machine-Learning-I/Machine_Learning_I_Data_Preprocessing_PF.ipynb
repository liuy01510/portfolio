{
  "nbformat": 4,
  "nbformat_minor": 0,
  "metadata": {
    "colab": {
      "name": "Machine Learning I - Data Preprocessing.ipynb",
      "provenance": [],
      "collapsed_sections": [],
      "authorship_tag": "ABX9TyO4+mOmgKgE6YipLBdndn7I",
      "include_colab_link": true
    },
    "kernelspec": {
      "name": "python3",
      "display_name": "Python 3"
    }
  },
  "cells": [
    {
      "cell_type": "markdown",
      "metadata": {
        "id": "view-in-github",
        "colab_type": "text"
      },
      "source": [
        "<a href=\"https://colab.research.google.com/github/liuy01510/portfolio/blob/master/Machine_Learning_I_Data_Preprocessing_PF.ipynb\" target=\"_parent\"><img src=\"https://colab.research.google.com/assets/colab-badge.svg\" alt=\"Open In Colab\"/></a>"
      ]
    },
    {
      "cell_type": "markdown",
      "metadata": {
        "id": "sNOWXSLJwCgh",
        "colab_type": "text"
      },
      "source": [
        "# Introduction\n",
        "- Import data from the source and perform data cleaning to prepare it for machine learning.\n",
        "- Data source: [Median Rent by Town and Flat Type](https://data.gov.sg/dataset/median-rent-by-town-and-flat-type)\n"
      ]
    },
    {
      "cell_type": "markdown",
      "metadata": {
        "id": "aYHkBnXjwypp",
        "colab_type": "text"
      },
      "source": [
        "# Importing required data"
      ]
    },
    {
      "cell_type": "markdown",
      "metadata": {
        "id": "k87gAqOIxTGA",
        "colab_type": "text"
      },
      "source": [
        "## Modules importing"
      ]
    },
    {
      "cell_type": "code",
      "metadata": {
        "id": "pgqVZIaWxUlo",
        "colab_type": "code",
        "colab": {}
      },
      "source": [
        "import numpy as np\n",
        "import scipy as sp\n",
        "import pandas as pd\n",
        "import matplotlib.pyplot as plt\n",
        "import collections as coll\n",
        "import requests\n",
        "import zipfile\n",
        "import json"
      ],
      "execution_count": 0,
      "outputs": []
    },
    {
      "cell_type": "markdown",
      "metadata": {
        "id": "6h0yxMdDxp0i",
        "colab_type": "text"
      },
      "source": [
        "## Data Import Function"
      ]
    },
    {
      "cell_type": "code",
      "metadata": {
        "id": "t7rqVEA3xr6x",
        "colab_type": "code",
        "colab": {}
      },
      "source": [
        "def Data_Import():\n",
        "    url='https://data.gov.sg/dataset/b35046dc-7428-4cff-968d-ef4c3e9e6c99/download' # data url\n",
        "    req=requests.get(url) # get the url\n",
        "    res=req.content # get the content of the response\n",
        "\n",
        "    zipFileLoc='/content/Zipped_Rent_Data' # zip file location\n",
        "    fileLoc='/content/Rent_Data' # data location\n",
        "\n",
        "    ## Saving the zip file\n",
        "    with open(zipFileLoc,'wb') as f:\n",
        "        f.write(res) # saving the zip file\n",
        "    \n",
        "    ## Extracting the data from the zip file\n",
        "    with zipfile.ZipFile(zipFileLoc) as f:\n",
        "        f.extractall(path=fileLoc)\n",
        "    \n",
        "    ## Writing the CSV file into a dataframe\n",
        "    csvName='/median-rent-by-town-and-flat-type.csv'\n",
        "    result=pd.read_csv(fileLoc+csvName)\n",
        "    return result\n"
      ],
      "execution_count": 0,
      "outputs": []
    },
    {
      "cell_type": "code",
      "metadata": {
        "id": "m6NyB6Pe3sbb",
        "colab_type": "code",
        "colab": {}
      },
      "source": [
        "# Storing the raw data into a dataframe\n",
        "all_tables=coll.OrderedDict()\n",
        "csvName='/content/Rent_Data/median-rent-by-town-and-flat-type.csv'\n",
        "\n",
        "try:\n",
        "    all_tables['raw']=pd.read_csv(csvName)\n",
        "except:\n",
        "    Data_Import()\n",
        "    all_tables['raw']=pd.read_csv(csvName)"
      ],
      "execution_count": 0,
      "outputs": []
    },
    {
      "cell_type": "markdown",
      "metadata": {
        "id": "cPPnImkX4ceT",
        "colab_type": "text"
      },
      "source": [
        "# Data cleaning"
      ]
    },
    {
      "cell_type": "markdown",
      "metadata": {
        "id": "9BftZyKx4ele",
        "colab_type": "text"
      },
      "source": [
        "## Preliminary data cleaning"
      ]
    },
    {
      "cell_type": "code",
      "metadata": {
        "id": "SR0NyfAV4iOL",
        "colab_type": "code",
        "colab": {}
      },
      "source": [
        "# Dropping all entries with 'na' values in the 'median_rent' column\n",
        "table=all_tables['raw']\n",
        "table=table[[True if i!='na' and i!='-' else False for i in table['median_rent']]]\n",
        "\n",
        "# Splitting out the quarter column to individual year and quarter columns\n",
        "table=table.assign(Quarter=[int(i.split('-')[1][1]) for i in table['quarter']])\n",
        "table=table.assign(Year=[int(i.split('-')[0]) for i in table['quarter']])\n",
        "table=table.drop(columns=['quarter'])\n",
        "\n",
        "# Reindexing the table\n",
        "table=table.reset_index().drop(columns=['index'])\n",
        "\n",
        "# Correcting the median_rent type to float\n",
        "table.loc[:,'median_rent']=table.loc[:,'median_rent'].apply(int)\n",
        "all_tables['raw']=table"
      ],
      "execution_count": 0,
      "outputs": []
    },
    {
      "cell_type": "markdown",
      "metadata": {
        "id": "FKm2_1aS9fqV",
        "colab_type": "text"
      },
      "source": [
        "# Correcting for the price index\n",
        "- The indicative prices of the different years is an uneven baseline due to the occurence of inflation that happens across the years.\n",
        "- The HDB resale price index will be used to approximate this inflation."
      ]
    },
    {
      "cell_type": "code",
      "metadata": {
        "id": "hVx0-RUW-LYO",
        "colab_type": "code",
        "colab": {}
      },
      "source": [
        "# Loading the json data from the index into a dict.\n",
        "def Get_Price_Index():\n",
        "    url2='https://data.gov.sg/api/action/datastore_search?resource_id=52e93430-01b7-4de0-80df-bc83d0afed40&limit=10000' # API url\n",
        "\n",
        "    req=requests.get(url2)\n",
        "    res=req.content\n",
        "\n",
        "    result=json.loads(res)\n",
        "    result=result['result']['records']\n",
        "    return result\n",
        "\n",
        "try:\n",
        "    pIndex\n",
        "except:\n",
        "    pIndex=Get_Price_Index()"
      ],
      "execution_count": 0,
      "outputs": []
    },
    {
      "cell_type": "code",
      "metadata": {
        "id": "VcSBALpwABCZ",
        "colab_type": "code",
        "colab": {}
      },
      "source": [
        "# Extracting the useful data\n",
        "index=coll.OrderedDict()\n",
        "for x in pIndex:\n",
        "    y=x['quarter'].split('-')\n",
        "    index[(int(y[1][1]),int(y[0]))]=float(x['index'])"
      ],
      "execution_count": 0,
      "outputs": []
    },
    {
      "cell_type": "code",
      "metadata": {
        "id": "KFt16SHyCqvx",
        "colab_type": "code",
        "colab": {
          "base_uri": "https://localhost:8080/",
          "height": 469
        },
        "outputId": "8e29520c-bd13-48b9-ed87-af98f1fe37ef"
      },
      "source": [
        "# Performing the index correction\n",
        "v=coll.OrderedDict() # dict to store important variable values\n",
        "\n",
        "## Base Index\n",
        "table=all_tables['raw']\n",
        "x=set([(q,y) for q,y in zip(table['Quarter'],table['Year'])])\n",
        "x=sorted(x,key=lambda y:y[0],reverse=True) # sorting according to quarter\n",
        "x=sorted(x,key=lambda y:y[1],reverse=True) # sorting according to year\n",
        "v['Base Index']=index[x[0]] # latest year index (Q1,2020)\n",
        "\n",
        "## Applying index correction\n",
        "grouped=table.groupby(['Quarter','Year'])\n",
        "for n,t in grouped:\n",
        "    cf=v['Base Index']/index[n]\n",
        "    table.loc[t.index,'median_rent']=table.loc[t.index,'median_rent']*cf\n",
        "\n",
        "all_tables['raw']=table\n",
        "all_tables['raw']"
      ],
      "execution_count": 230,
      "outputs": [
        {
          "output_type": "execute_result",
          "data": {
            "text/html": [
              "<div>\n",
              "<style scoped>\n",
              "    .dataframe tbody tr th:only-of-type {\n",
              "        vertical-align: middle;\n",
              "    }\n",
              "\n",
              "    .dataframe tbody tr th {\n",
              "        vertical-align: top;\n",
              "    }\n",
              "\n",
              "    .dataframe thead th {\n",
              "        text-align: right;\n",
              "    }\n",
              "</style>\n",
              "<table border=\"1\" class=\"dataframe\">\n",
              "  <thead>\n",
              "    <tr style=\"text-align: right;\">\n",
              "      <th></th>\n",
              "      <th>town</th>\n",
              "      <th>flat_type</th>\n",
              "      <th>median_rent</th>\n",
              "      <th>Quarter</th>\n",
              "      <th>Year</th>\n",
              "    </tr>\n",
              "  </thead>\n",
              "  <tbody>\n",
              "    <tr>\n",
              "      <th>0</th>\n",
              "      <td>ANG MO KIO</td>\n",
              "      <td>3-RM</td>\n",
              "      <td>1431.292517</td>\n",
              "      <td>2</td>\n",
              "      <td>2005</td>\n",
              "    </tr>\n",
              "    <tr>\n",
              "      <th>1</th>\n",
              "      <td>ANG MO KIO</td>\n",
              "      <td>4-RM</td>\n",
              "      <td>1699.659864</td>\n",
              "      <td>2</td>\n",
              "      <td>2005</td>\n",
              "    </tr>\n",
              "    <tr>\n",
              "      <th>2</th>\n",
              "      <td>BEDOK</td>\n",
              "      <td>3-RM</td>\n",
              "      <td>1431.292517</td>\n",
              "      <td>2</td>\n",
              "      <td>2005</td>\n",
              "    </tr>\n",
              "    <tr>\n",
              "      <th>3</th>\n",
              "      <td>BEDOK</td>\n",
              "      <td>4-RM</td>\n",
              "      <td>1610.204082</td>\n",
              "      <td>2</td>\n",
              "      <td>2005</td>\n",
              "    </tr>\n",
              "    <tr>\n",
              "      <th>4</th>\n",
              "      <td>BEDOK</td>\n",
              "      <td>5-RM</td>\n",
              "      <td>1833.843537</td>\n",
              "      <td>2</td>\n",
              "      <td>2005</td>\n",
              "    </tr>\n",
              "    <tr>\n",
              "      <th>...</th>\n",
              "      <td>...</td>\n",
              "      <td>...</td>\n",
              "      <td>...</td>\n",
              "      <td>...</td>\n",
              "      <td>...</td>\n",
              "    </tr>\n",
              "    <tr>\n",
              "      <th>4347</th>\n",
              "      <td>WOODLANDS</td>\n",
              "      <td>EXEC</td>\n",
              "      <td>2000.000000</td>\n",
              "      <td>1</td>\n",
              "      <td>2020</td>\n",
              "    </tr>\n",
              "    <tr>\n",
              "      <th>4348</th>\n",
              "      <td>YISHUN</td>\n",
              "      <td>3-RM</td>\n",
              "      <td>1600.000000</td>\n",
              "      <td>1</td>\n",
              "      <td>2020</td>\n",
              "    </tr>\n",
              "    <tr>\n",
              "      <th>4349</th>\n",
              "      <td>YISHUN</td>\n",
              "      <td>4-RM</td>\n",
              "      <td>1800.000000</td>\n",
              "      <td>1</td>\n",
              "      <td>2020</td>\n",
              "    </tr>\n",
              "    <tr>\n",
              "      <th>4350</th>\n",
              "      <td>YISHUN</td>\n",
              "      <td>5-RM</td>\n",
              "      <td>2030.000000</td>\n",
              "      <td>1</td>\n",
              "      <td>2020</td>\n",
              "    </tr>\n",
              "    <tr>\n",
              "      <th>4351</th>\n",
              "      <td>YISHUN</td>\n",
              "      <td>EXEC</td>\n",
              "      <td>2100.000000</td>\n",
              "      <td>1</td>\n",
              "      <td>2020</td>\n",
              "    </tr>\n",
              "  </tbody>\n",
              "</table>\n",
              "<p>4352 rows × 5 columns</p>\n",
              "</div>"
            ],
            "text/plain": [
              "            town flat_type  median_rent  Quarter  Year\n",
              "0     ANG MO KIO      3-RM  1431.292517        2  2005\n",
              "1     ANG MO KIO      4-RM  1699.659864        2  2005\n",
              "2          BEDOK      3-RM  1431.292517        2  2005\n",
              "3          BEDOK      4-RM  1610.204082        2  2005\n",
              "4          BEDOK      5-RM  1833.843537        2  2005\n",
              "...          ...       ...          ...      ...   ...\n",
              "4347   WOODLANDS      EXEC  2000.000000        1  2020\n",
              "4348      YISHUN      3-RM  1600.000000        1  2020\n",
              "4349      YISHUN      4-RM  1800.000000        1  2020\n",
              "4350      YISHUN      5-RM  2030.000000        1  2020\n",
              "4351      YISHUN      EXEC  2100.000000        1  2020\n",
              "\n",
              "[4352 rows x 5 columns]"
            ]
          },
          "metadata": {
            "tags": []
          },
          "execution_count": 230
        }
      ]
    },
    {
      "cell_type": "markdown",
      "metadata": {
        "id": "ygsQk06AMFtz",
        "colab_type": "text"
      },
      "source": [
        "- The table above shows the table of data.\n",
        "- However, this table must still undergo further data processing to be suitable for ML."
      ]
    }
  ]
}
