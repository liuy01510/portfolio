{
  "nbformat": 4,
  "nbformat_minor": 0,
  "metadata": {
    "colab": {
      "name": "SVM Classifier (Diabetes).ipynb",
      "provenance": [],
      "collapsed_sections": [],
      "authorship_tag": "ABX9TyNqttQZz/jBaGBLoikdNSz9",
      "include_colab_link": true
    },
    "kernelspec": {
      "name": "python3",
      "display_name": "Python 3"
    }
  },
  "cells": [
    {
      "cell_type": "markdown",
      "metadata": {
        "id": "view-in-github",
        "colab_type": "text"
      },
      "source": [
        "<a href=\"https://colab.research.google.com/github/liuy01510/portfolio/blob/master/Python/ML/SVM/SVM_Classifier_(Diabetes).ipynb\" target=\"_parent\"><img src=\"https://colab.research.google.com/assets/colab-badge.svg\" alt=\"Open In Colab\"/></a>"
      ]
    },
    {
      "cell_type": "markdown",
      "metadata": {
        "id": "g9W0b4LW-nUI",
        "colab_type": "text"
      },
      "source": [
        "# Importing Modules"
      ]
    },
    {
      "cell_type": "code",
      "metadata": {
        "id": "CJB--ReZ-zJi",
        "colab_type": "code",
        "colab": {}
      },
      "source": [
        "import numpy as np\n",
        "import scipy as sp\n",
        "import matplotlib.pyplot as plt\n",
        "import pandas as pd\n",
        "import collections as coll\n",
        "\n",
        "from sklearn.datasets import fetch_openml\n",
        "from sklearn.preprocessing import StandardScaler\n",
        "from sklearn.model_selection import train_test_split, cross_val_predict, GridSearchCV\n",
        "from sklearn.model_selection import StratifiedShuffleSplit\n",
        "from sklearn.svm import SVC\n",
        "from sklearn.metrics import confusion_matrix,precision_score\n",
        "from sklearn.metrics import recall_score,f1_score,accuracy_score"
      ],
      "execution_count": 151,
      "outputs": []
    },
    {
      "cell_type": "markdown",
      "metadata": {
        "id": "KGFA3pVT_FtD",
        "colab_type": "text"
      },
      "source": [
        "# Importing data"
      ]
    },
    {
      "cell_type": "code",
      "metadata": {
        "id": "LF4m2Ab1_NOi",
        "colab_type": "code",
        "colab": {
          "base_uri": "https://localhost:8080/",
          "height": 36
        },
        "outputId": "5fbb797a-fecd-4aaa-c2a6-f28c26ab6d1f"
      },
      "source": [
        "try:\n",
        "    data\n",
        "except:\n",
        "    data=fetch_openml(data_id=37)\n",
        "\n",
        "data.keys()"
      ],
      "execution_count": 152,
      "outputs": [
        {
          "output_type": "execute_result",
          "data": {
            "text/plain": [
              "dict_keys(['data', 'target', 'frame', 'feature_names', 'target_names', 'DESCR', 'details', 'categories', 'url'])"
            ]
          },
          "metadata": {
            "tags": []
          },
          "execution_count": 152
        }
      ]
    },
    {
      "cell_type": "code",
      "metadata": {
        "id": "Ms7oE7iu_hzr",
        "colab_type": "code",
        "colab": {
          "base_uri": "https://localhost:8080/",
          "height": 55
        },
        "outputId": "33e47892-cbce-4bca-fdbe-b083f165c2c7"
      },
      "source": [
        "X=data['data']\n",
        "y=data['target']\n",
        "\n",
        "print(f\"Number of instances = {len(X)}\")\n",
        "print(f\"Number of features per instance = {X.shape[1]}\")"
      ],
      "execution_count": 153,
      "outputs": [
        {
          "output_type": "stream",
          "text": [
            "Number of instances = 768\n",
            "Number of features per instance = 8\n"
          ],
          "name": "stdout"
        }
      ]
    },
    {
      "cell_type": "markdown",
      "metadata": {
        "id": "pnjBHIKfAhjS",
        "colab_type": "text"
      },
      "source": [
        "# SVC Model"
      ]
    },
    {
      "cell_type": "markdown",
      "metadata": {
        "id": "wEXWrTYhAnDr",
        "colab_type": "text"
      },
      "source": [
        "## Data Visualization"
      ]
    },
    {
      "cell_type": "code",
      "metadata": {
        "id": "0gZYrdv_Asfy",
        "colab_type": "code",
        "colab": {
          "base_uri": "https://localhost:8080/",
          "height": 469
        },
        "outputId": "86ec6dea-cfe1-45f4-8b4c-c4cd3da04214"
      },
      "source": [
        "X_frame=pd.DataFrame(X,columns=data['feature_names'])\n",
        "X_frame"
      ],
      "execution_count": 154,
      "outputs": [
        {
          "output_type": "execute_result",
          "data": {
            "text/html": [
              "<div>\n",
              "<style scoped>\n",
              "    .dataframe tbody tr th:only-of-type {\n",
              "        vertical-align: middle;\n",
              "    }\n",
              "\n",
              "    .dataframe tbody tr th {\n",
              "        vertical-align: top;\n",
              "    }\n",
              "\n",
              "    .dataframe thead th {\n",
              "        text-align: right;\n",
              "    }\n",
              "</style>\n",
              "<table border=\"1\" class=\"dataframe\">\n",
              "  <thead>\n",
              "    <tr style=\"text-align: right;\">\n",
              "      <th></th>\n",
              "      <th>preg</th>\n",
              "      <th>plas</th>\n",
              "      <th>pres</th>\n",
              "      <th>skin</th>\n",
              "      <th>insu</th>\n",
              "      <th>mass</th>\n",
              "      <th>pedi</th>\n",
              "      <th>age</th>\n",
              "    </tr>\n",
              "  </thead>\n",
              "  <tbody>\n",
              "    <tr>\n",
              "      <th>0</th>\n",
              "      <td>6.0</td>\n",
              "      <td>148.0</td>\n",
              "      <td>72.0</td>\n",
              "      <td>35.0</td>\n",
              "      <td>0.0</td>\n",
              "      <td>33.6</td>\n",
              "      <td>0.627</td>\n",
              "      <td>50.0</td>\n",
              "    </tr>\n",
              "    <tr>\n",
              "      <th>1</th>\n",
              "      <td>1.0</td>\n",
              "      <td>85.0</td>\n",
              "      <td>66.0</td>\n",
              "      <td>29.0</td>\n",
              "      <td>0.0</td>\n",
              "      <td>26.6</td>\n",
              "      <td>0.351</td>\n",
              "      <td>31.0</td>\n",
              "    </tr>\n",
              "    <tr>\n",
              "      <th>2</th>\n",
              "      <td>8.0</td>\n",
              "      <td>183.0</td>\n",
              "      <td>64.0</td>\n",
              "      <td>0.0</td>\n",
              "      <td>0.0</td>\n",
              "      <td>23.3</td>\n",
              "      <td>0.672</td>\n",
              "      <td>32.0</td>\n",
              "    </tr>\n",
              "    <tr>\n",
              "      <th>3</th>\n",
              "      <td>1.0</td>\n",
              "      <td>89.0</td>\n",
              "      <td>66.0</td>\n",
              "      <td>23.0</td>\n",
              "      <td>94.0</td>\n",
              "      <td>28.1</td>\n",
              "      <td>0.167</td>\n",
              "      <td>21.0</td>\n",
              "    </tr>\n",
              "    <tr>\n",
              "      <th>4</th>\n",
              "      <td>0.0</td>\n",
              "      <td>137.0</td>\n",
              "      <td>40.0</td>\n",
              "      <td>35.0</td>\n",
              "      <td>168.0</td>\n",
              "      <td>43.1</td>\n",
              "      <td>2.288</td>\n",
              "      <td>33.0</td>\n",
              "    </tr>\n",
              "    <tr>\n",
              "      <th>...</th>\n",
              "      <td>...</td>\n",
              "      <td>...</td>\n",
              "      <td>...</td>\n",
              "      <td>...</td>\n",
              "      <td>...</td>\n",
              "      <td>...</td>\n",
              "      <td>...</td>\n",
              "      <td>...</td>\n",
              "    </tr>\n",
              "    <tr>\n",
              "      <th>763</th>\n",
              "      <td>10.0</td>\n",
              "      <td>101.0</td>\n",
              "      <td>76.0</td>\n",
              "      <td>48.0</td>\n",
              "      <td>180.0</td>\n",
              "      <td>32.9</td>\n",
              "      <td>0.171</td>\n",
              "      <td>63.0</td>\n",
              "    </tr>\n",
              "    <tr>\n",
              "      <th>764</th>\n",
              "      <td>2.0</td>\n",
              "      <td>122.0</td>\n",
              "      <td>70.0</td>\n",
              "      <td>27.0</td>\n",
              "      <td>0.0</td>\n",
              "      <td>36.8</td>\n",
              "      <td>0.340</td>\n",
              "      <td>27.0</td>\n",
              "    </tr>\n",
              "    <tr>\n",
              "      <th>765</th>\n",
              "      <td>5.0</td>\n",
              "      <td>121.0</td>\n",
              "      <td>72.0</td>\n",
              "      <td>23.0</td>\n",
              "      <td>112.0</td>\n",
              "      <td>26.2</td>\n",
              "      <td>0.245</td>\n",
              "      <td>30.0</td>\n",
              "    </tr>\n",
              "    <tr>\n",
              "      <th>766</th>\n",
              "      <td>1.0</td>\n",
              "      <td>126.0</td>\n",
              "      <td>60.0</td>\n",
              "      <td>0.0</td>\n",
              "      <td>0.0</td>\n",
              "      <td>30.1</td>\n",
              "      <td>0.349</td>\n",
              "      <td>47.0</td>\n",
              "    </tr>\n",
              "    <tr>\n",
              "      <th>767</th>\n",
              "      <td>1.0</td>\n",
              "      <td>93.0</td>\n",
              "      <td>70.0</td>\n",
              "      <td>31.0</td>\n",
              "      <td>0.0</td>\n",
              "      <td>30.4</td>\n",
              "      <td>0.315</td>\n",
              "      <td>23.0</td>\n",
              "    </tr>\n",
              "  </tbody>\n",
              "</table>\n",
              "<p>768 rows × 8 columns</p>\n",
              "</div>"
            ],
            "text/plain": [
              "     preg   plas  pres  skin   insu  mass   pedi   age\n",
              "0     6.0  148.0  72.0  35.0    0.0  33.6  0.627  50.0\n",
              "1     1.0   85.0  66.0  29.0    0.0  26.6  0.351  31.0\n",
              "2     8.0  183.0  64.0   0.0    0.0  23.3  0.672  32.0\n",
              "3     1.0   89.0  66.0  23.0   94.0  28.1  0.167  21.0\n",
              "4     0.0  137.0  40.0  35.0  168.0  43.1  2.288  33.0\n",
              "..    ...    ...   ...   ...    ...   ...    ...   ...\n",
              "763  10.0  101.0  76.0  48.0  180.0  32.9  0.171  63.0\n",
              "764   2.0  122.0  70.0  27.0    0.0  36.8  0.340  27.0\n",
              "765   5.0  121.0  72.0  23.0  112.0  26.2  0.245  30.0\n",
              "766   1.0  126.0  60.0   0.0    0.0  30.1  0.349  47.0\n",
              "767   1.0   93.0  70.0  31.0    0.0  30.4  0.315  23.0\n",
              "\n",
              "[768 rows x 8 columns]"
            ]
          },
          "metadata": {
            "tags": []
          },
          "execution_count": 154
        }
      ]
    },
    {
      "cell_type": "code",
      "metadata": {
        "id": "K4MSwuCiBQB2",
        "colab_type": "code",
        "colab": {}
      },
      "source": [
        "#Converting the target array to binary vector#\n",
        "y_types=sorted(list(set(data['target'])))\n",
        "y_conv=dict(list(zip(y_types,[0,1]))) # conversion dict\n",
        "y_conv_func=np.vectorize(y_conv.get) # create a vectorized function for the dict mapping\n",
        "y=y_conv_func(data['target']) # performing mapping to create binary vector\n",
        "\n",
        "for i in range(len(y)): # error checking on the conversion function\n",
        "    if y_conv[data['target'][i]]!=y[i]:\n",
        "        print(f\"There is a conversion error on the {i}th value.\")\n",
        "\n",
        "#Splitting of the training and test sets#\n",
        "X_train,X_test,y_train,y_test=train_test_split(X,y,test_size=0.2,random_state=1) # 20% reserved for test set\n",
        "\n",
        "#Performing standard scaling on the feature vector#\n",
        "standard_scaler=StandardScaler()\n",
        "X_train=standard_scaler.fit_transform(X_train)\n",
        "X_test=standard_scaler.transform(X_test)\n"
      ],
      "execution_count": 155,
      "outputs": []
    },
    {
      "cell_type": "markdown",
      "metadata": {
        "id": "PGZA6g6MIsJF",
        "colab_type": "text"
      },
      "source": [
        "## Model Training"
      ]
    },
    {
      "cell_type": "code",
      "metadata": {
        "id": "dbfR43E6Iu9A",
        "colab_type": "code",
        "colab": {
          "base_uri": "https://localhost:8080/",
          "height": 169
        },
        "outputId": "f3edfa7b-9727-4f72-f478-e7c247d5010d"
      },
      "source": [
        "#Model creation#\n",
        "svc=SVC(C=1.0,kernel='poly',degree=3,gamma='scale',coef0=0.0) # initial values\n",
        "\n",
        "#Training the default model#\n",
        "y_predict=cross_val_predict(svc,X_train,y_train,cv=5)\n",
        "\n",
        "#Obtaining the confusion matrix#\n",
        "print(f\"The confusion matrix for this default SVC model is:\")\n",
        "cf_frame=pd.DataFrame(confusion_matrix(y_train,y_predict),index=[0,1],columns=[0,1])\n",
        "print(cf_frame)\n",
        "\n",
        "#Getting the precision, recall and F1 scores#\n",
        "def Get_Classifier_Scores(y_true,y_predict):\n",
        "    print(f\"The accuracy score for this model is {accuracy_score(y_true,y_predict)*100:.2f}%\")\n",
        "    print(f\"The precision score for this model is {precision_score(y_true,y_predict)*100:.2f}%.\")\n",
        "    print(f\"The recall score for this model is {recall_score(y_true,y_predict)*100:.2f}%.\")\n",
        "    print(f\"The F1 score for this model is {f1_score(y_true,y_predict)*100:.2f}%.\")\n",
        "\n",
        "Get_Classifier_Scores(y_train,y_predict)"
      ],
      "execution_count": 156,
      "outputs": [
        {
          "output_type": "stream",
          "text": [
            "The confusion matrix for this default SVC model is:\n",
            "     0   1\n",
            "0  374  27\n",
            "1  139  74\n",
            "The accuracy score for this model is 72.96%\n",
            "The precision score for this model is 73.27%.\n",
            "The recall score for this model is 34.74%.\n",
            "The F1 score for this model is 47.13%.\n"
          ],
          "name": "stdout"
        }
      ]
    },
    {
      "cell_type": "markdown",
      "metadata": {
        "id": "VZlHvFoSMdIe",
        "colab_type": "text"
      },
      "source": [
        "# Improving SVC Model performance"
      ]
    },
    {
      "cell_type": "markdown",
      "metadata": {
        "id": "EJ5TqZI2Ml4D",
        "colab_type": "text"
      },
      "source": [
        "## Performing Grid Search"
      ]
    },
    {
      "cell_type": "code",
      "metadata": {
        "id": "2TKle92cOGS3",
        "colab_type": "code",
        "colab": {
          "base_uri": "https://localhost:8080/",
          "height": 264
        },
        "outputId": "4fe454de-4aba-493f-ecc5-b14e6e020a8c"
      },
      "source": [
        "#Parameter search grid#\n",
        "param_grid={'C':[0.01,0.1,1,10,100],\\\n",
        "            'degree':[1,10,100,500,700],\\\n",
        "            'coef0':[0,0.1,1,10,100]}\n",
        "\n",
        "#Creating the GridSearchCV object#\n",
        "gscv=GridSearchCV(SVC(),param_grid,scoring='f1',cv=5,n_jobs=-1)\n",
        "gscv.fit(X_train,y_train)"
      ],
      "execution_count": 157,
      "outputs": [
        {
          "output_type": "execute_result",
          "data": {
            "text/plain": [
              "GridSearchCV(cv=5, error_score=nan,\n",
              "             estimator=SVC(C=1.0, break_ties=False, cache_size=200,\n",
              "                           class_weight=None, coef0=0.0,\n",
              "                           decision_function_shape='ovr', degree=3,\n",
              "                           gamma='scale', kernel='rbf', max_iter=-1,\n",
              "                           probability=False, random_state=None, shrinking=True,\n",
              "                           tol=0.001, verbose=False),\n",
              "             iid='deprecated', n_jobs=-1,\n",
              "             param_grid={'C': [0.01, 0.1, 1, 10, 100],\n",
              "                         'coef0': [0, 0.1, 1, 10, 100],\n",
              "                         'degree': [1, 10, 100, 500, 700]},\n",
              "             pre_dispatch='2*n_jobs', refit=True, return_train_score=False,\n",
              "             scoring='f1', verbose=0)"
            ]
          },
          "metadata": {
            "tags": []
          },
          "execution_count": 157
        }
      ]
    },
    {
      "cell_type": "code",
      "metadata": {
        "id": "1DYJ7g8CSLrc",
        "colab_type": "code",
        "colab": {
          "base_uri": "https://localhost:8080/",
          "height": 93
        },
        "outputId": "88aa3c34-bcaa-42d8-efad-823e8a91b6c8"
      },
      "source": [
        "#Getting the result#\n",
        "print(f\"Best score = {gscv.best_score_}\")\n",
        "print(f\"Best params = {gscv.best_params_}\")\n",
        "\n",
        "#Attempting using the rbf kernel#\n",
        "param_grid={'kernel':['rbf'],\\\n",
        "            'coef0':[0.001,0.01,0.1,1,10,100,1000],\\\n",
        "            'C':[0.0001,0.001,0.01,0.1,1,10,100,1000]}\n",
        "\n",
        "gscv=GridSearchCV(SVC(),param_grid,scoring='f1',cv=5,n_jobs=-1)\n",
        "gscv.fit(X_train,y_train)\n",
        "print(f\"Best score = {gscv.best_score_}\")\n",
        "print(f\"Best params = {gscv.best_params_}\")"
      ],
      "execution_count": 158,
      "outputs": [
        {
          "output_type": "stream",
          "text": [
            "Best score = 0.5792239591229642\n",
            "Best params = {'C': 1, 'coef0': 0, 'degree': 1}\n",
            "Best score = 0.5792239591229642\n",
            "Best params = {'C': 1, 'coef0': 0.001, 'kernel': 'rbf'}\n"
          ],
          "name": "stdout"
        }
      ]
    },
    {
      "cell_type": "code",
      "metadata": {
        "id": "Prl6LumrUlkA",
        "colab_type": "code",
        "colab": {
          "base_uri": "https://localhost:8080/",
          "height": 368
        },
        "outputId": "bbf9e4e8-a9b3-4cb9-b281-a737c84583bf"
      },
      "source": [
        "#Analyzing the results of the grid search#\n",
        "cv_results_frame=pd.DataFrame(gscv.cv_results_['params'])\n",
        "cv_results_frame=cv_results_frame.drop(columns=['kernel']) # drop the 'kernel' column\n",
        "cv_results_frame['f1_score']=gscv.cv_results_['mean_test_score'] # adding the f1 score col\n",
        "\n",
        "#Plotting the heatmap#\n",
        "def Plot(figsize=(10,10),dpi=200):\n",
        "    fig=plt.Figure(figsize=figsize,dpi=dpi)\n",
        "    ax=fig.add_subplot(111)\n",
        "    return ax,fig\n",
        "\n",
        "#Creating the 2d array plot#\n",
        "cv_results_frame=cv_results_frame.sort_values(by=['C','coef0'],axis=0,ascending=True)\n",
        "columns_labels=sorted(list(set(cv_results_frame['coef0'])))\n",
        "index_labels=sorted(list(set(cv_results_frame['C'])))\n",
        "frame_2d=pd.DataFrame(data=cv_results_frame['f1_score'].to_numpy().reshape((len(index_labels),len(columns_labels))),\\\n",
        "                      index=index_labels,\\\n",
        "                      columns=columns_labels)\n",
        "frame_2d.rename_axis('C',axis='index',inplace=True)\n",
        "frame_2d.rename_axis('coef0',axis='columns',inplace=True)\n",
        "frame_2d"
      ],
      "execution_count": 159,
      "outputs": [
        {
          "output_type": "execute_result",
          "data": {
            "text/html": [
              "<div>\n",
              "<style scoped>\n",
              "    .dataframe tbody tr th:only-of-type {\n",
              "        vertical-align: middle;\n",
              "    }\n",
              "\n",
              "    .dataframe tbody tr th {\n",
              "        vertical-align: top;\n",
              "    }\n",
              "\n",
              "    .dataframe thead th {\n",
              "        text-align: right;\n",
              "    }\n",
              "</style>\n",
              "<table border=\"1\" class=\"dataframe\">\n",
              "  <thead>\n",
              "    <tr style=\"text-align: right;\">\n",
              "      <th>coef0</th>\n",
              "      <th>0.001</th>\n",
              "      <th>0.010</th>\n",
              "      <th>0.100</th>\n",
              "      <th>1.000</th>\n",
              "      <th>10.000</th>\n",
              "      <th>100.000</th>\n",
              "      <th>1000.000</th>\n",
              "    </tr>\n",
              "    <tr>\n",
              "      <th>C</th>\n",
              "      <th></th>\n",
              "      <th></th>\n",
              "      <th></th>\n",
              "      <th></th>\n",
              "      <th></th>\n",
              "      <th></th>\n",
              "      <th></th>\n",
              "    </tr>\n",
              "  </thead>\n",
              "  <tbody>\n",
              "    <tr>\n",
              "      <th>0.0001</th>\n",
              "      <td>0.000000</td>\n",
              "      <td>0.000000</td>\n",
              "      <td>0.000000</td>\n",
              "      <td>0.000000</td>\n",
              "      <td>0.000000</td>\n",
              "      <td>0.000000</td>\n",
              "      <td>0.000000</td>\n",
              "    </tr>\n",
              "    <tr>\n",
              "      <th>0.0010</th>\n",
              "      <td>0.000000</td>\n",
              "      <td>0.000000</td>\n",
              "      <td>0.000000</td>\n",
              "      <td>0.000000</td>\n",
              "      <td>0.000000</td>\n",
              "      <td>0.000000</td>\n",
              "      <td>0.000000</td>\n",
              "    </tr>\n",
              "    <tr>\n",
              "      <th>0.0100</th>\n",
              "      <td>0.000000</td>\n",
              "      <td>0.000000</td>\n",
              "      <td>0.000000</td>\n",
              "      <td>0.000000</td>\n",
              "      <td>0.000000</td>\n",
              "      <td>0.000000</td>\n",
              "      <td>0.000000</td>\n",
              "    </tr>\n",
              "    <tr>\n",
              "      <th>0.1000</th>\n",
              "      <td>0.349355</td>\n",
              "      <td>0.349355</td>\n",
              "      <td>0.349355</td>\n",
              "      <td>0.349355</td>\n",
              "      <td>0.349355</td>\n",
              "      <td>0.349355</td>\n",
              "      <td>0.349355</td>\n",
              "    </tr>\n",
              "    <tr>\n",
              "      <th>1.0000</th>\n",
              "      <td>0.579224</td>\n",
              "      <td>0.579224</td>\n",
              "      <td>0.579224</td>\n",
              "      <td>0.579224</td>\n",
              "      <td>0.579224</td>\n",
              "      <td>0.579224</td>\n",
              "      <td>0.579224</td>\n",
              "    </tr>\n",
              "    <tr>\n",
              "      <th>10.0000</th>\n",
              "      <td>0.574164</td>\n",
              "      <td>0.574164</td>\n",
              "      <td>0.574164</td>\n",
              "      <td>0.574164</td>\n",
              "      <td>0.574164</td>\n",
              "      <td>0.574164</td>\n",
              "      <td>0.574164</td>\n",
              "    </tr>\n",
              "    <tr>\n",
              "      <th>100.0000</th>\n",
              "      <td>0.524363</td>\n",
              "      <td>0.524363</td>\n",
              "      <td>0.524363</td>\n",
              "      <td>0.524363</td>\n",
              "      <td>0.524363</td>\n",
              "      <td>0.524363</td>\n",
              "      <td>0.524363</td>\n",
              "    </tr>\n",
              "    <tr>\n",
              "      <th>1000.0000</th>\n",
              "      <td>0.514778</td>\n",
              "      <td>0.514778</td>\n",
              "      <td>0.514778</td>\n",
              "      <td>0.514778</td>\n",
              "      <td>0.514778</td>\n",
              "      <td>0.514778</td>\n",
              "      <td>0.514778</td>\n",
              "    </tr>\n",
              "  </tbody>\n",
              "</table>\n",
              "</div>"
            ],
            "text/plain": [
              "coef0      0.001     0.010     0.100     1.000     10.000    100.000   1000.000\n",
              "C                                                                              \n",
              "0.0001     0.000000  0.000000  0.000000  0.000000  0.000000  0.000000  0.000000\n",
              "0.0010     0.000000  0.000000  0.000000  0.000000  0.000000  0.000000  0.000000\n",
              "0.0100     0.000000  0.000000  0.000000  0.000000  0.000000  0.000000  0.000000\n",
              "0.1000     0.349355  0.349355  0.349355  0.349355  0.349355  0.349355  0.349355\n",
              "1.0000     0.579224  0.579224  0.579224  0.579224  0.579224  0.579224  0.579224\n",
              "10.0000    0.574164  0.574164  0.574164  0.574164  0.574164  0.574164  0.574164\n",
              "100.0000   0.524363  0.524363  0.524363  0.524363  0.524363  0.524363  0.524363\n",
              "1000.0000  0.514778  0.514778  0.514778  0.514778  0.514778  0.514778  0.514778"
            ]
          },
          "metadata": {
            "tags": []
          },
          "execution_count": 159
        }
      ]
    },
    {
      "cell_type": "markdown",
      "metadata": {
        "id": "cMtTBGT2S7b_",
        "colab_type": "text"
      },
      "source": [
        "- It can be seen that the variation of the coef0 hyperparameter does not seem to have an effect on the f1 score.\n",
        "- However, the C hyperparameter seems to indicate that the optimal value lies between the range of 0.1 to 10.\n",
        "    - Therefore, the next tuning step should focus on searching for the optimal C parameter within this range."
      ]
    },
    {
      "cell_type": "markdown",
      "metadata": {
        "id": "WKhbaJAjTXHf",
        "colab_type": "text"
      },
      "source": [
        "## Stratified splitting of the data sets\n",
        "- Before the 2nd round of hyperparameter searching, another possible attempt to increase the validity of the model is to perform stratified shuffling of the cv model during scoring."
      ]
    },
    {
      "cell_type": "code",
      "metadata": {
        "id": "NkalhUszUzW9",
        "colab_type": "code",
        "colab": {
          "base_uri": "https://localhost:8080/",
          "height": 815
        },
        "outputId": "3f493603-0dc2-442b-ee9e-65c55d50fe26"
      },
      "source": [
        "# Visualizing the dataset\n",
        "fig=plt.Figure(figsize=(15,10),dpi=100)\n",
        "axes=fig.subplots(nrows=4,ncols=2) # 4x2 grid for histogram\n",
        "axes=axes.ravel()\n",
        "for i,ax in enumerate(axes):\n",
        "    ax.hist(X_frame.iloc[:,i])\n",
        "    ax.set_ylabel(X_frame.columns[i])\n",
        "fig"
      ],
      "execution_count": 160,
      "outputs": [
        {
          "output_type": "execute_result",
          "data": {
            "image/png": "[encoded data removed]",
            "text/plain": [
              "<Figure size 1500x1000 with 8 Axes>"
            ]
          },
          "metadata": {
            "tags": []
          },
          "execution_count": 160
        }
      ]
    },
    {
      "cell_type": "code",
      "metadata": {
        "id": "jWVFeDWnWQis",
        "colab_type": "code",
        "colab": {
          "base_uri": "https://localhost:8080/",
          "height": 150
        },
        "outputId": "defb0325-5426-4f6a-997f-71450d2a1ddf"
      },
      "source": [
        "#Checking which feature should be chosen for stratification#\n",
        "for feature in X_frame.columns:\n",
        "    \n",
        "    feat_cat=pd.cut(X_frame[feature],bins=np.linspace(-1,max(X_frame[feature]),7),labels=[i for i in range(6)]) # 10 bins\n",
        "    X=X_frame.copy() # make a copy of the original dataframe\n",
        "    splitter=StratifiedShuffleSplit(n_splits=10,test_size=0.2,random_state=1)\n",
        "    try:\n",
        "        for train_index,test_index in splitter.split(X,feat_cat): # returns a generator object containing the splitted indexes\n",
        "            X_train_strat=X.loc[train_index,:].to_numpy()\n",
        "            y_train_strat=y[train_index]\n",
        "            X_test_strat=X.loc[test_index,:].to_numpy()\n",
        "            y_test_strat=y[test_index]\n",
        "    except: # accounting for features with 1 member possibilities after stratification.\n",
        "        continue\n",
        "        \n",
        "    \n",
        "    standard_scaler=StandardScaler()\n",
        "    X_train_strat=standard_scaler.fit_transform(X_train_strat) # scaling of the training set\n",
        "    X_test_strat=standard_scaler.transform(X_test_strat) # scaling of the test set\n",
        "\n",
        "    svc=SVC(C=1.0,kernel='poly',degree=3,gamma='scale',coef0=0.0) # compare against the original SVC\n",
        "    y_predict_strat=cross_val_predict(svc,X_train_strat,y_train_strat,cv=5)\n",
        "    f1_scored=f1_score(y_train_strat,y_predict_strat)\n",
        "    print(f\"The F1 score for the stratified feature {feature} is {f1_scored*100:.2f}%.\")"
      ],
      "execution_count": 161,
      "outputs": [
        {
          "output_type": "stream",
          "text": [
            "The F1 score for the stratified feature preg is 50.79%.\n",
            "The F1 score for the stratified feature plas is 50.77%.\n",
            "The F1 score for the stratified feature pres is 51.22%.\n",
            "The F1 score for the stratified feature insu is 54.01%.\n",
            "The F1 score for the stratified feature mass is 51.71%.\n",
            "The F1 score for the stratified feature pedi is 53.22%.\n",
            "The F1 score for the stratified feature age is 55.88%.\n"
          ],
          "name": "stdout"
        }
      ]
    },
    {
      "cell_type": "markdown",
      "metadata": {
        "id": "MiLjIsZ10gTX",
        "colab_type": "text"
      },
      "source": [
        "- Therefore, it can be seen from the above test that the f1 score for all the stratified datasets appears to be higher than the original unstratified data.\n",
        "    - This indicates that stratified sampling is useful in this situation.\n",
        "- Also, the stratification based on the feature \"age\" seems to produce the highest f1 score.\n",
        "    - Therefore, the model should be retrained on a stratified dataset based on the \"age\" feature."
      ]
    },
    {
      "cell_type": "markdown",
      "metadata": {
        "id": "GXuIdcIs1NWH",
        "colab_type": "text"
      },
      "source": [
        "## Implementing the improvements"
      ]
    },
    {
      "cell_type": "code",
      "metadata": {
        "id": "WaMp_o-Z1Q1R",
        "colab_type": "code",
        "colab": {
          "base_uri": "https://localhost:8080/",
          "height": 378
        },
        "outputId": "22854a84-a7a9-4f60-ba24-0e08d33e59be"
      },
      "source": [
        "#Stratification of the datasets#\n",
        "strat_feature='age'\n",
        "bins=7\n",
        "feat_cat=pd.cut(X_frame[strat_feature],np.linspace(-1,max(X_frame[strat_feature]),bins),labels=[i for i in range(bins-1)]) # cut into 8 bins\n",
        "splitter=StratifiedShuffleSplit(n_splits=10,test_size=0.2) # stratified splitter object\n",
        "\n",
        "for train_index,test_index in splitter.split(X,feat_cat): # perform stratification\n",
        "    X_train=X.to_numpy()[train_index,:]\n",
        "    y_train=y[train_index]\n",
        "    X_test=X.to_numpy()[test_index,:]\n",
        "    y_test=y[test_index]\n",
        "\n",
        "standard_scaler=StandardScaler()\n",
        "X_train=standard_scaler.fit_transform(X_train)\n",
        "X_test=standard_scaler.transform(X_test)\n",
        "\n",
        "#2nd round of grid search#\n",
        "param_grid={'kernel':['rbf','poly'],\\\n",
        "            'C':[i for i in np.arange(0.1,10.1,0.1)]}\n",
        "\n",
        "gscv=GridSearchCV(SVC(),param_grid,scoring='f1',cv=5,n_jobs=-1)\n",
        "gscv.fit(X_train,y_train)"
      ],
      "execution_count": 162,
      "outputs": [
        {
          "output_type": "execute_result",
          "data": {
            "text/plain": [
              "GridSearchCV(cv=5, error_score=nan,\n",
              "             estimator=SVC(C=1.0, break_ties=False, cache_size=200,\n",
              "                           class_weight=None, coef0=0.0,\n",
              "                           decision_function_shape='ovr', degree=3,\n",
              "                           gamma='scale', kernel='rbf', max_iter=-1,\n",
              "                           probability=False, random_state=None, shrinking=True,\n",
              "                           tol=0.001, verbose=False),\n",
              "             iid='deprecated', n_jobs=-1,\n",
              "             param_grid={'C': [0.1, 0.2, 0.30000000000000004, 0.4, 0.5, 0....\n",
              "                               1.2000000000000002, 1.3000000000000003,\n",
              "                               1.4000000000000001, 1.5000000000000002, 1.6,\n",
              "                               1.7000000000000002, 1.8000000000000003,\n",
              "                               1.9000000000000001, 2.0, 2.1, 2.2,\n",
              "                               2.3000000000000003, 2.4000000000000004,\n",
              "                               2.5000000000000004, 2.6, 2.7, 2.8000000000000003,\n",
              "                               2.9000000000000004, 3.0000000000000004, ...],\n",
              "                         'kernel': ['rbf', 'poly']},\n",
              "             pre_dispatch='2*n_jobs', refit=True, return_train_score=False,\n",
              "             scoring='f1', verbose=0)"
            ]
          },
          "metadata": {
            "tags": []
          },
          "execution_count": 162
        }
      ]
    },
    {
      "cell_type": "code",
      "metadata": {
        "id": "_AsIONs26mY4",
        "colab_type": "code",
        "colab": {
          "base_uri": "https://localhost:8080/",
          "height": 131
        },
        "outputId": "cc5fe75b-3244-4cbf-ad9d-190eb312fd39"
      },
      "source": [
        "#Getting the optimal parameters#\n",
        "print(\"The best parameters for the model is:\")\n",
        "print(f\"{gscv.best_params_}\")\n",
        "\n",
        "\n",
        "svc=gscv.best_estimator_ # returns the optimal model\n",
        "\n",
        "#Testing the performance of the optimized model#\n",
        "y_predict=cross_val_predict(svc,X_train,y_train,cv=5)\n",
        "\n",
        "Get_Classifier_Scores(y_train,y_predict)"
      ],
      "execution_count": 163,
      "outputs": [
        {
          "output_type": "stream",
          "text": [
            "The best parameters for the model is:\n",
            "{'C': 0.9, 'kernel': 'rbf'}\n",
            "The accuracy score for this model is 76.71%\n",
            "The precision score for this model is 72.51%.\n",
            "The recall score for this model is 56.36%.\n",
            "The F1 score for this model is 63.43%.\n"
          ],
          "name": "stdout"
        }
      ]
    },
    {
      "cell_type": "markdown",
      "metadata": {
        "id": "SUfM-H0q9XpR",
        "colab_type": "text"
      },
      "source": [
        "- It can be seen that the optimized f1 score is around 60%, which is approximately 10~20% higher than the unoptimized model.\n",
        "- However, this score is still too low for the model to be used.\n",
        "    - Other ML models may be explored for this problem."
      ]
    }
  ]
}