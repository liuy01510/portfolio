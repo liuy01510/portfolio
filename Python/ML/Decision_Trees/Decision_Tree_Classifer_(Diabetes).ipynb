{
  "nbformat": 4,
  "nbformat_minor": 0,
  "metadata": {
    "colab": {
      "name": "Decision Tree Classifer (Diabetes).ipynb",
      "provenance": [],
      "authorship_tag": "ABX9TyNlIwBVIU+7tMPTYh8KAhPt",
      "include_colab_link": true
    },
    "kernelspec": {
      "name": "python3",
      "display_name": "Python 3"
    }
  },
  "cells": [
    {
      "cell_type": "markdown",
      "metadata": {
        "id": "view-in-github",
        "colab_type": "text"
      },
      "source": [
        "<a href=\"https://colab.research.google.com/github/liuy01510/portfolio/blob/master/Python/ML/Decision_Trees/Decision_Tree_Classifer_(Diabetes).ipynb\" target=\"_parent\"><img src=\"https://colab.research.google.com/assets/colab-badge.svg\" alt=\"Open In Colab\"/></a>"
      ]
    },
    {
      "cell_type": "markdown",
      "metadata": {
        "id": "peXV-0qTNx06",
        "colab_type": "text"
      },
      "source": [
        "# Importing modules"
      ]
    },
    {
      "cell_type": "code",
      "metadata": {
        "id": "24yCPlVcOPGV",
        "colab_type": "code",
        "colab": {}
      },
      "source": [
        "import numpy as np\n",
        "import scipy as sp\n",
        "import matplotlib.pyplot as plt\n",
        "import pandas as pd\n",
        "\n",
        "from sklearn.datasets import fetch_openml\n",
        "from sklearn.tree import DecisionTreeClassifier, plot_tree, export_text\n",
        "from sklearn.model_selection import train_test_split, cross_val_predict, GridSearchCV\n",
        "from sklearn.metrics import accuracy_score,precision_score,recall_score,f1_score,roc_auc_score\n",
        "from sklearn.ensemble import BaggingClassifier, RandomForestClassifier"
      ],
      "execution_count": 267,
      "outputs": []
    },
    {
      "cell_type": "code",
      "metadata": {
        "id": "f75RhMp3Oo3D",
        "colab_type": "code",
        "colab": {}
      },
      "source": [
        "try:\n",
        "    data\n",
        "except:\n",
        "    data=fetch_openml(data_id=37) # fetching the diabetes dataset\n",
        "\n",
        "X_frame=pd.DataFrame(data=data['data'],columns=data['feature_names'])\n",
        "classes=sorted(list(set(data['target'])))\n",
        "data['binary_target']=[0 if i==classes[0] else 1 for i in data['target']]\n",
        "y_frame=pd.DataFrame(data=data['binary_target'],columns=data['target_names'])"
      ],
      "execution_count": 268,
      "outputs": []
    },
    {
      "cell_type": "markdown",
      "metadata": {
        "id": "poD8W0doOzru",
        "colab_type": "text"
      },
      "source": [
        "# Initial analysis of the Decision Tree (DT) model"
      ]
    },
    {
      "cell_type": "code",
      "metadata": {
        "id": "514JzF9rPdJH",
        "colab_type": "code",
        "colab": {
          "base_uri": "https://localhost:8080/",
          "height": 777
        },
        "outputId": "a9b199c9-877a-48fe-abaf-7cfcf06aabd7"
      },
      "source": [
        "#Default model#\n",
        "rnd_num=10 # default number used for the random_state arg during the splitting of the training/test sets.\n",
        "dtc=DecisionTreeClassifier() # unlimited tree growth, guaranteed to overfit the data (Max variance)\n",
        "X_train,X_test,y_train,y_test=train_test_split(X_frame.to_numpy(),y_frame.to_numpy(),test_size=0.2,random_state=rnd_num)\n",
        "\n",
        "#Default model training#\n",
        "dtc.fit(X_train,y_train)\n",
        "print(export_text(dtc,feature_names=data['feature_names'],max_depth=3)) # truncated form of the decision tree\n",
        "original_tree_depth=dtc.get_depth()\n",
        "original_tree_leaves=dtc.get_n_leaves()\n",
        "print(f\"Depth of tree = {original_tree_depth}\")\n",
        "print(f\"Number of leaves = {original_tree_leaves}\")"
      ],
      "execution_count": 269,
      "outputs": [
        {
          "output_type": "stream",
          "text": [
            "|--- plas <= 154.50\n",
            "|   |--- mass <= 26.35\n",
            "|   |   |--- age <= 53.50\n",
            "|   |   |   |--- class: 0\n",
            "|   |   |--- age >  53.50\n",
            "|   |   |   |--- pres <= 93.00\n",
            "|   |   |   |   |--- truncated branch of depth 3\n",
            "|   |   |   |--- pres >  93.00\n",
            "|   |   |   |   |--- class: 1\n",
            "|   |--- mass >  26.35\n",
            "|   |   |--- age <= 30.50\n",
            "|   |   |   |--- plas <= 118.50\n",
            "|   |   |   |   |--- truncated branch of depth 10\n",
            "|   |   |   |--- plas >  118.50\n",
            "|   |   |   |   |--- truncated branch of depth 10\n",
            "|   |   |--- age >  30.50\n",
            "|   |   |   |--- plas <= 99.50\n",
            "|   |   |   |   |--- truncated branch of depth 5\n",
            "|   |   |   |--- plas >  99.50\n",
            "|   |   |   |   |--- truncated branch of depth 14\n",
            "|--- plas >  154.50\n",
            "|   |--- age <= 62.50\n",
            "|   |   |--- insu <= 544.00\n",
            "|   |   |   |--- pedi <= 0.13\n",
            "|   |   |   |   |--- truncated branch of depth 2\n",
            "|   |   |   |--- pedi >  0.13\n",
            "|   |   |   |   |--- truncated branch of depth 9\n",
            "|   |   |--- insu >  544.00\n",
            "|   |   |   |--- pres <= 69.00\n",
            "|   |   |   |   |--- class: 1\n",
            "|   |   |   |--- pres >  69.00\n",
            "|   |   |   |   |--- class: 0\n",
            "|   |--- age >  62.50\n",
            "|   |   |--- mass <= 30.70\n",
            "|   |   |   |--- class: 0\n",
            "|   |   |--- mass >  30.70\n",
            "|   |   |   |--- class: 1\n",
            "\n",
            "Depth of tree = 17\n",
            "Number of leaves = 113\n"
          ],
          "name": "stdout"
        }
      ]
    },
    {
      "cell_type": "code",
      "metadata": {
        "id": "Nn_fwpQqYjYJ",
        "colab_type": "code",
        "colab": {
          "base_uri": "https://localhost:8080/",
          "height": 112
        },
        "outputId": "b1441013-fa55-4661-e2be-3970ad4b9d7d"
      },
      "source": [
        "#Model evaluation#\n",
        "dtc=DecisionTreeClassifier() # default dtc\n",
        "\n",
        "def Model_Evaluation(model,X_train,y_train):\n",
        "    y_predict=cross_val_predict(model,X_train,y_train,cv=5,n_jobs=-1)\n",
        "    eval={}\n",
        "    eval['Accuracy']=accuracy_score(y_train,y_predict)\n",
        "    eval['Precision']=precision_score(y_train,y_predict)\n",
        "    eval['Recall']=recall_score(y_train,y_predict)\n",
        "    eval['F1']=f1_score(y_train,y_predict)\n",
        "    eval['AUC']=roc_auc_score(y_train,y_predict)\n",
        "\n",
        "    for k,v in eval.items():\n",
        "        print(f\"{k} score: {v:.3f}\")\n",
        "\n",
        "Model_Evaluation(dtc,X_train,y_train)"
      ],
      "execution_count": 270,
      "outputs": [
        {
          "output_type": "stream",
          "text": [
            "Accuracy score: 0.689\n",
            "Precision score: 0.543\n",
            "Recall score: 0.545\n",
            "F1 score: 0.544\n",
            "AUC score: 0.654\n"
          ],
          "name": "stdout"
        }
      ]
    },
    {
      "cell_type": "markdown",
      "metadata": {
        "id": "ioqxghQrc_x8",
        "colab_type": "text"
      },
      "source": [
        "# Optimal hyperparameter determination"
      ]
    },
    {
      "cell_type": "code",
      "metadata": {
        "id": "gsCHvv5pdHVe",
        "colab_type": "code",
        "colab": {
          "base_uri": "https://localhost:8080/",
          "height": 435
        },
        "outputId": "29757333-be50-4e8e-a0c2-1adf03c2c4f3"
      },
      "source": [
        "# Creating the parameter grid\n",
        "params_grid={}\n",
        "params_grid['max_depth']=list(range(2,original_tree_depth+1))\n",
        "params_grid['min_samples_split']=[i/10 for i in range(1,11)]\n",
        "params_grid['max_leaf_nodes']=list(range(2,original_tree_leaves,10))\n",
        "\n",
        "#Perfoming grid search#\n",
        "dtc=DecisionTreeClassifier()\n",
        "gscv=GridSearchCV(dtc,params_grid,scoring='f1',cv=5,n_jobs=-1)\n",
        "gscv.fit(X_train,y_train)"
      ],
      "execution_count": 271,
      "outputs": [
        {
          "output_type": "execute_result",
          "data": {
            "text/plain": [
              "GridSearchCV(cv=5, error_score=nan,\n",
              "             estimator=DecisionTreeClassifier(ccp_alpha=0.0, class_weight=None,\n",
              "                                              criterion='gini', max_depth=None,\n",
              "                                              max_features=None,\n",
              "                                              max_leaf_nodes=None,\n",
              "                                              min_impurity_decrease=0.0,\n",
              "                                              min_impurity_split=None,\n",
              "                                              min_samples_leaf=1,\n",
              "                                              min_samples_split=2,\n",
              "                                              min_weight_fraction_leaf=0.0,\n",
              "                                              presort='deprecated',\n",
              "                                              random_state=None,\n",
              "                                              splitter='best'),\n",
              "             iid='deprecated', n_jobs=-1,\n",
              "             param_grid={'max_depth': [2, 3, 4, 5, 6, 7, 8, 9, 10, 11, 12, 13,\n",
              "                                       14, 15, 16, 17],\n",
              "                         'max_leaf_nodes': [2, 12, 22, 32, 42, 52, 62, 72, 82,\n",
              "                                            92, 102, 112],\n",
              "                         'min_samples_split': [0.1, 0.2, 0.3, 0.4, 0.5, 0.6,\n",
              "                                               0.7, 0.8, 0.9, 1.0]},\n",
              "             pre_dispatch='2*n_jobs', refit=True, return_train_score=False,\n",
              "             scoring='f1', verbose=0)"
            ]
          },
          "metadata": {
            "tags": []
          },
          "execution_count": 271
        }
      ]
    },
    {
      "cell_type": "code",
      "metadata": {
        "id": "rHTnfCAphysn",
        "colab_type": "code",
        "colab": {
          "base_uri": "https://localhost:8080/",
          "height": 150
        },
        "outputId": "78729571-8c19-4514-b58a-ff51e550bfcb"
      },
      "source": [
        "#Checking the optimal hyperparameters#\n",
        "print(f\"Optimal hyperparameters = {gscv.best_params_}\")\n",
        "print(f\"F1 score from the optimal parameters = {gscv.best_score_}\")\n",
        "\n",
        "dtc_optimal=gscv.best_estimator_\n",
        "Model_Evaluation(dtc_optimal,X_train,y_train)"
      ],
      "execution_count": 272,
      "outputs": [
        {
          "output_type": "stream",
          "text": [
            "Optimal hyperparameters = {'max_depth': 5, 'max_leaf_nodes': 12, 'min_samples_split': 0.2}\n",
            "F1 score from the optimal parameters = 0.6407635500654845\n",
            "Accuracy score: 0.751\n",
            "Precision score: 0.628\n",
            "Recall score: 0.656\n",
            "F1 score: 0.642\n",
            "AUC score: 0.728\n"
          ],
          "name": "stdout"
        }
      ]
    },
    {
      "cell_type": "markdown",
      "metadata": {
        "id": "bISazbvGubO0",
        "colab_type": "text"
      },
      "source": [
        "# Ensemble Training"
      ]
    },
    {
      "cell_type": "markdown",
      "metadata": {
        "id": "nhfR0WpTue_M",
        "colab_type": "text"
      },
      "source": [
        "## Bagging Classifier Model"
      ]
    },
    {
      "cell_type": "code",
      "metadata": {
        "id": "DP7L4hRyuiVm",
        "colab_type": "code",
        "colab": {}
      },
      "source": [
        "#Creation of the bagging classifier model#\n",
        "dtc=DecisionTreeClassifier()\n",
        "dtc_bag=BaggingClassifier(dtc,n_estimators=300,max_samples=0.2,bootstrap=True,random_state=rnd_num,n_jobs=-1) # random hyperparams"
      ],
      "execution_count": 273,
      "outputs": []
    },
    {
      "cell_type": "code",
      "metadata": {
        "id": "lRrmdUlrv68K",
        "colab_type": "code",
        "colab": {
          "base_uri": "https://localhost:8080/",
          "height": 112
        },
        "outputId": "838947e8-3b86-480c-ee98-344a9b07c0fe"
      },
      "source": [
        "#Evaluating bagging classifier performance#\n",
        "Model_Evaluation(dtc_bag,X_train,y_train.ravel()) # 1d array required for the y_train array"
      ],
      "execution_count": 274,
      "outputs": [
        {
          "output_type": "stream",
          "text": [
            "Accuracy score: 0.769\n",
            "Precision score: 0.694\n",
            "Recall score: 0.574\n",
            "F1 score: 0.628\n",
            "AUC score: 0.722\n"
          ],
          "name": "stdout"
        }
      ]
    },
    {
      "cell_type": "code",
      "metadata": {
        "id": "JzwRi9ktxMoH",
        "colab_type": "code",
        "colab": {
          "base_uri": "https://localhost:8080/",
          "height": 416
        },
        "outputId": "a31311ee-5db9-438b-83c9-b8ef8c156cb5"
      },
      "source": [
        "#Optimal hyperparameters determination#\n",
        "params_grid={}\n",
        "params_grid['n_estimators']=[i for i in range(100,1100,200)]\n",
        "params_grid['max_depth']=[i for i in range(2,original_tree_depth+1,2)]\n",
        "\n",
        "\n",
        "gscv_rfc=GridSearchCV(RandomForestClassifier(max_samples=0.2),param_grid=params_grid,scoring='f1',cv=5,n_jobs=-1)\n",
        "# Note that the max_samples hyperparameter is randomly selected due to processing time constraints during GridSearch\n",
        "gscv_rfc.fit(X_train,y_train.ravel())"
      ],
      "execution_count": 275,
      "outputs": [
        {
          "output_type": "execute_result",
          "data": {
            "text/plain": [
              "GridSearchCV(cv=5, error_score=nan,\n",
              "             estimator=RandomForestClassifier(bootstrap=True, ccp_alpha=0.0,\n",
              "                                              class_weight=None,\n",
              "                                              criterion='gini', max_depth=None,\n",
              "                                              max_features='auto',\n",
              "                                              max_leaf_nodes=None,\n",
              "                                              max_samples=0.2,\n",
              "                                              min_impurity_decrease=0.0,\n",
              "                                              min_impurity_split=None,\n",
              "                                              min_samples_leaf=1,\n",
              "                                              min_samples_split=2,\n",
              "                                              min_weight_fraction_leaf=0.0,\n",
              "                                              n_estimators=100, n_jobs=None,\n",
              "                                              oob_score=False,\n",
              "                                              random_state=None, verbose=0,\n",
              "                                              warm_start=False),\n",
              "             iid='deprecated', n_jobs=-1,\n",
              "             param_grid={'max_depth': [2, 4, 6, 8, 10, 12, 14, 16],\n",
              "                         'n_estimators': [100, 300, 500, 700, 900]},\n",
              "             pre_dispatch='2*n_jobs', refit=True, return_train_score=False,\n",
              "             scoring='f1', verbose=0)"
            ]
          },
          "metadata": {
            "tags": []
          },
          "execution_count": 275
        }
      ]
    },
    {
      "cell_type": "code",
      "metadata": {
        "id": "kr3pLCrs3w3L",
        "colab_type": "code",
        "colab": {
          "base_uri": "https://localhost:8080/",
          "height": 416
        },
        "outputId": "d1d0534c-08d0-49b4-a8c3-e41aadd26e52"
      },
      "source": [
        "#Evaluation of the optimal hyperparameters#\n",
        "print(f\"Optimal Hyperparameters: {gscv_rfc.best_params_}, Score: {gscv_rfc.best_score_:.3f}\")\n",
        "\n",
        "params_grid_2={}\n",
        "#2nd round of hyperparameter tuning#\n",
        "x='max_depth'\n",
        "i=params_grid[x].index(gscv_rfc.best_params_[x])\n",
        "if i!=0 and i!=len(params_grid[x])-1:\n",
        "    params_grid_2[x]=[j for j in range(params_grid[x][i-1],params_grid[x][i+1]+1,1)]\n",
        "\n",
        "x='n_estimators'\n",
        "i=params_grid[x].index(gscv_rfc.best_params_[x])\n",
        "if i!=0 and i!=len(params_grid[x])-1:\n",
        "    params_grid_2[x]=[j for j in range(params_grid[x][i-1],params_grid[x][i+1]+100,100)]\n",
        "\n",
        "gscv_rfc=GridSearchCV(RandomForestClassifier(max_samples=0.2,**gscv_rfc.best_params_),param_grid=params_grid_2,scoring='f1',cv=5,n_jobs=-1)\n",
        "gscv_rfc.fit(X_train,y_train.ravel())"
      ],
      "execution_count": 276,
      "outputs": [
        {
          "output_type": "stream",
          "text": [
            "Optimal Hyperparameters: {'max_depth': 8, 'n_estimators': 100}, Score: 0.643\n"
          ],
          "name": "stdout"
        },
        {
          "output_type": "execute_result",
          "data": {
            "text/plain": [
              "GridSearchCV(cv=5, error_score=nan,\n",
              "             estimator=RandomForestClassifier(bootstrap=True, ccp_alpha=0.0,\n",
              "                                              class_weight=None,\n",
              "                                              criterion='gini', max_depth=8,\n",
              "                                              max_features='auto',\n",
              "                                              max_leaf_nodes=None,\n",
              "                                              max_samples=0.2,\n",
              "                                              min_impurity_decrease=0.0,\n",
              "                                              min_impurity_split=None,\n",
              "                                              min_samples_leaf=1,\n",
              "                                              min_samples_split=2,\n",
              "                                              min_weight_fraction_leaf=0.0,\n",
              "                                              n_estimators=100, n_jobs=None,\n",
              "                                              oob_score=False,\n",
              "                                              random_state=None, verbose=0,\n",
              "                                              warm_start=False),\n",
              "             iid='deprecated', n_jobs=-1,\n",
              "             param_grid={'max_depth': [6, 7, 8, 9, 10]},\n",
              "             pre_dispatch='2*n_jobs', refit=True, return_train_score=False,\n",
              "             scoring='f1', verbose=0)"
            ]
          },
          "metadata": {
            "tags": []
          },
          "execution_count": 276
        }
      ]
    },
    {
      "cell_type": "code",
      "metadata": {
        "id": "DFZlK2vJ39zH",
        "colab_type": "code",
        "colab": {
          "base_uri": "https://localhost:8080/",
          "height": 131
        },
        "outputId": "2c73fca3-c592-4ac8-e9f7-cdd33e766247"
      },
      "source": [
        "#Obtaining the optimal hyperparameters after the 2nd round of tuning#\n",
        "print(f\"Optimal hyperparameters: {gscv_rfc.best_params_}, Score: {gscv_rfc.best_score_:.3f}\") # not much further improvement\n",
        "\n",
        "#Performing final round of model evaluation#\n",
        "rfc_optimal=RandomForestClassifier(max_samples=0.2,**gscv_rfc.best_params_)\n",
        "\n",
        "Model_Evaluation(rfc_optimal,X_train,y_train)"
      ],
      "execution_count": 277,
      "outputs": [
        {
          "output_type": "stream",
          "text": [
            "Optimal hyperparameters: {'max_depth': 8}, Score: 0.626\n",
            "Accuracy score: 0.779\n",
            "Precision score: 0.713\n",
            "Recall score: 0.584\n",
            "F1 score: 0.642\n",
            "AUC score: 0.731\n"
          ],
          "name": "stdout"
        }
      ]
    }
  ]
}