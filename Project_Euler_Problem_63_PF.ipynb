{
  "nbformat": 4,
  "nbformat_minor": 0,
  "metadata": {
    "colab": {
      "name": "Project Euler - Problem 63 (Portfolio Version).ipynb",
      "provenance": [],
      "collapsed_sections": [],
      "authorship_tag": "ABX9TyPycPUsIZTrZOTEf7yBYNVv",
      "include_colab_link": true
    },
    "kernelspec": {
      "name": "python3",
      "display_name": "Python 3"
    }
  },
  "cells": [
    {
      "cell_type": "markdown",
      "metadata": {
        "id": "view-in-github",
        "colab_type": "text"
      },
      "source": [
        "<a href=\"https://colab.research.google.com/github/liuy01510/portfolio/blob/master/Project_Euler_Problem_63_PF.ipynb\" target=\"_parent\"><img src=\"https://colab.research.google.com/assets/colab-badge.svg\" alt=\"Open In Colab\"/></a>"
      ]
    },
    {
      "cell_type": "markdown",
      "metadata": {
        "id": "KLlLr9ShH2Eq",
        "colab_type": "text"
      },
      "source": [
        "# Problem Statement\n",
        "The 5-digit number, 16807=7^5, is also a fifth power. Similarly, the 9-digit number, 134217728=8^9, is a ninth power.\n",
        "\n",
        "How many n-digit positive integers exist which are also an nth power?"
      ]
    },
    {
      "cell_type": "code",
      "metadata": {
        "id": "hPdz12S8H8R0",
        "colab_type": "code",
        "colab": {}
      },
      "source": [
        "# Importing libraries\n",
        "import numpy as np\n",
        "import scipy as sp\n",
        "import matplotlib.pyplot as plt\n",
        "import pandas as pd\n",
        "import collections as coll\n",
        "import time"
      ],
      "execution_count": 0,
      "outputs": []
    },
    {
      "cell_type": "markdown",
      "metadata": {
        "id": "ul4-DzMWIWBc",
        "colab_type": "text"
      },
      "source": [
        "- Firstly, the upper boundary of this problem must be determined.\n",
        "- One assumption that has to be made is that numbers >= 10 must be excluded, since $len \\left( 10^{n} \\right)==n$ for all n.\n",
        "- Therefore, the search space for the numbers will range from 2 to 9.\n",
        "- Next, the upper boundary of the exponent (n) must be determined.\n"
      ]
    },
    {
      "cell_type": "code",
      "metadata": {
        "id": "63eZnav2Jpy5",
        "colab_type": "code",
        "outputId": "2f6daec5-2902-4f9f-b779-8136a638b974",
        "colab": {
          "base_uri": "https://localhost:8080/",
          "height": 150
        }
      },
      "source": [
        "# Determining the upper boundary for the exponent\n",
        "def prnt(num,i):\n",
        "    print(f\"{num}^{i}={num**i} with a length of {len(str(num**i))}, condition met: {len(str(num**i))==i}\")\n",
        "prnt(10,11)\n",
        "prnt(9,11)\n",
        "prnt(10,10)\n",
        "prnt(9,10)\n",
        "prnt(10,9)\n",
        "prnt(9,9)\n",
        "prnt(8,9)\n"
      ],
      "execution_count": 26,
      "outputs": [
        {
          "output_type": "stream",
          "text": [
            "10^11=100000000000 with a length of 12, condition met: False\n",
            "9^11=31381059609 with a length of 11, condition met: True\n",
            "10^10=10000000000 with a length of 11, condition met: False\n",
            "9^10=3486784401 with a length of 10, condition met: True\n",
            "10^9=1000000000 with a length of 10, condition met: False\n",
            "9^9=387420489 with a length of 9, condition met: True\n",
            "8^9=134217728 with a length of 9, condition met: True\n"
          ],
          "name": "stdout"
        }
      ]
    },
    {
      "cell_type": "markdown",
      "metadata": {
        "id": "veOe2k1zPR4w",
        "colab_type": "text"
      },
      "source": [
        "- It can be seen that len(10^n) is always greater than n, but len(9^n)=n based on the above examples. \n",
        "- Therefore, to locate the upper boundary of exp, find the largest n whereby len(9^n)=n no longer holds True.\n"
      ]
    },
    {
      "cell_type": "code",
      "metadata": {
        "id": "Ti364ZuYYlAA",
        "colab_type": "code",
        "outputId": "eea96b52-70e4-4381-bde6-0a843f1bf4c1",
        "colab": {
          "base_uri": "https://localhost:8080/",
          "height": 36
        }
      },
      "source": [
        "x=9 # selected since 9 produces the largest amount of digits.\n",
        "i=2\n",
        "while True:\n",
        "    if len(str(x**i))<i:\n",
        "        print(f\"At n = {i}, the length of the string is {len(str(x**i))}.\")\n",
        "        break\n",
        "    i+=1"
      ],
      "execution_count": 27,
      "outputs": [
        {
          "output_type": "stream",
          "text": [
            "At n = 22, the length of the string is 21.\n"
          ],
          "name": "stdout"
        }
      ]
    },
    {
      "cell_type": "markdown",
      "metadata": {
        "id": "KmeE2lH1a9nL",
        "colab_type": "text"
      },
      "source": [
        "- From n >= 22, the len(9^n) < n will always be true.\n",
        "- This is because for every +1 increment in n, an additional 9 is multiplied to the original 9^n value. \n",
        "    - However, multiplying by 9 may or may not guarantee an increase in the length of the number since only multiplying by 10 guarantees an increment in the length.\n",
        "    - Therfore, once len(9^n) < n becomes True, additional increments in the value of n will never be able to recover the conditional of len(9^n) == n.\n",
        "- Therefore, from this, the upper boundary of exponent search space is selected to be at n == 21."
      ]
    },
    {
      "cell_type": "code",
      "metadata": {
        "id": "AwD0FN7UIh5M",
        "colab_type": "code",
        "outputId": "2998a542-df86-418d-8adc-9e7f105d5fa9",
        "colab": {
          "base_uri": "https://localhost:8080/",
          "height": 36
        }
      },
      "source": [
        "# creating a variable dict\n",
        "resultSet=set()\n",
        "pDigits=coll.namedtuple('pDigits',['val','exp','result']) # namedtuple to store the possible powerful digits.\n",
        "\n",
        "# Searching the search spaces\n",
        "start=time.time()\n",
        "for x in range(2,10):\n",
        "    for n in range(1,22):\n",
        "        if len(str(x**n))==n:\n",
        "            resultSet.add(pDigits(x,n,x**n))\n",
        "            \n",
        "# Accounting for x=1\n",
        "## Recall that 1^1 == 1 which satisfies the conditional\n",
        "resultSet.add(pDigits(1,1,1)) \n",
        "\n",
        "end=time.time()\n",
        "\n",
        "# Printing the results\n",
        "print(f\"The number of powerful digits are {len(resultSet)}, which was solved in {end-start} seconds.\")\n"
      ],
      "execution_count": 28,
      "outputs": [
        {
          "output_type": "stream",
          "text": [
            "The number of powerful digits are 49, which was solved in 0.0002789497375488281 seconds.\n"
          ],
          "name": "stdout"
        }
      ]
    }
  ]
}