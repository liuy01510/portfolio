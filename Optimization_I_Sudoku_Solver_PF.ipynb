{
  "nbformat": 4,
  "nbformat_minor": 0,
  "metadata": {
    "colab": {
      "name": "Optimization I - Sudoku Solver (Portfolio Version).ipynb",
      "provenance": [],
      "collapsed_sections": [],
      "authorship_tag": "ABX9TyOYhSPLH85azqIblubOIvcV",
      "include_colab_link": true
    },
    "kernelspec": {
      "name": "python3",
      "display_name": "Python 3"
    }
  },
  "cells": [
    {
      "cell_type": "markdown",
      "metadata": {
        "id": "view-in-github",
        "colab_type": "text"
      },
      "source": [
        "<a href=\"https://colab.research.google.com/github/liuy01510/portfolio/blob/master/Optimization_I_Sudoku_Solver_PF.ipynb\" target=\"_parent\"><img src=\"https://colab.research.google.com/assets/colab-badge.svg\" alt=\"Open In Colab\"/></a>"
      ]
    },
    {
      "cell_type": "markdown",
      "metadata": {
        "id": "quTjsqQqFM4p",
        "colab_type": "text"
      },
      "source": [
        "# Introduction & Objectives\n",
        "- Objective: Creating a Sudoku solver that solves the puzzle using LP tools.\n",
        "- Requirements: \n",
        "    - Determining the type of solver to be used.\n",
        "    - Modelling the constraints in terms of the LP software.\n"
      ]
    },
    {
      "cell_type": "markdown",
      "metadata": {
        "id": "r12ooYI2FSmM",
        "colab_type": "text"
      },
      "source": [
        "# Importing the required modules.\n",
        "- In this script, the Google's ortools modules will be the LP solver used."
      ]
    },
    {
      "cell_type": "code",
      "metadata": {
        "id": "Ov1p7Wf7FsYl",
        "colab_type": "code",
        "colab": {}
      },
      "source": [
        "# Checking if the ortools module has been installed, else install it.\n",
        "try:\n",
        "    import ortools\n",
        "except:\n",
        "    !pip install ortools\n",
        "    import ortools\n",
        "\n",
        "# Importing the remaining functions\n",
        "import numpy as np\n",
        "import scipy as sp\n",
        "import pandas as pd\n",
        "import matplotlib.pyplot as plt\n",
        "import requests\n",
        "import json\n",
        "from collections import OrderedDict\n",
        "import time"
      ],
      "execution_count": 0,
      "outputs": []
    },
    {
      "cell_type": "markdown",
      "metadata": {
        "id": "5jI8vlmhGeTx",
        "colab_type": "text"
      },
      "source": [
        "# Sample sudoku problem\n",
        "- The sudoku puzzle will be pulled using an API from a random sudoku puzzle generator."
      ]
    },
    {
      "cell_type": "code",
      "metadata": {
        "id": "WDRtZo49G_T9",
        "colab_type": "code",
        "outputId": "87db1612-3ec8-489b-fcd1-ccca2994a90c",
        "colab": {
          "base_uri": "https://localhost:8080/",
          "height": 207
        }
      },
      "source": [
        "url=f'https://sugoku.herokuapp.com/board?difficulty=hard'\n",
        "responseObj=requests.get(url) # getting the puzzle from the server.\n",
        "\n",
        "# Opening the response object and creating the puzzle\n",
        "responseObj=responseObj.content # returns a json puzzle \n",
        "responseObj=json.loads(responseObj) #loading the byte json file into a python dict object.\n",
        "v=OrderedDict() # create a new dictionary to handle all the variables presents within this script.\n",
        "v['given board']=np.array(responseObj['board']) # casting the board to a numpy array object.\n",
        "v['board constraints']=[(x,y,v['given board'][x][y]) for x in range(9) for y in range(9)\\\n",
        "                        if v['given board'][x][y]!=0] # given board constraints.\n",
        "print(\"The given board is shown as follows:\")\n",
        "print(v['given board'])"
      ],
      "execution_count": 20,
      "outputs": [
        {
          "output_type": "stream",
          "text": [
            "The given board is shown as follows:\n",
            "[[0 0 0 9 0 0 0 0 0]\n",
            " [0 0 6 0 2 7 0 0 9]\n",
            " [7 0 0 3 0 0 0 0 0]\n",
            " [0 0 0 0 0 0 0 0 6]\n",
            " [0 4 0 0 0 0 0 1 0]\n",
            " [0 0 0 0 0 0 2 0 0]\n",
            " [0 3 5 0 9 4 8 0 1]\n",
            " [0 6 0 5 0 2 0 4 3]\n",
            " [9 0 0 0 3 1 0 6 2]]\n"
          ],
          "name": "stdout"
        }
      ]
    },
    {
      "cell_type": "markdown",
      "metadata": {
        "id": "6DAWIfYZH4wR",
        "colab_type": "text"
      },
      "source": [
        "# Solving the problem\n",
        "- The sudoku puzzle can be expressed in the form of a constraint programming problem.\n",
        "- Therefore, the constraint programming solver (CP-SAT) will be used to solve this puzzle."
      ]
    },
    {
      "cell_type": "code",
      "metadata": {
        "id": "y1RR8qM7OBpm",
        "colab_type": "code",
        "outputId": "da88832a-4251-428d-b1f1-a46303ae33a2",
        "colab": {
          "base_uri": "https://localhost:8080/",
          "height": 245
        }
      },
      "source": [
        "# Importing the solver\n",
        "v['start time']=time.time()\n",
        "from ortools.sat.python import cp_model\n",
        "model=cp_model.CpModel()\n",
        "solver=cp_model.CpSolver()\n",
        "\n",
        "# Creating the variables present in this puzzle\n",
        "for x in range(9):\n",
        "    for y in range(9):\n",
        "        v[f\"x{x}y{y}\"]=model.NewIntVar(1,9,f'x{x}y{y}')\n",
        "\n",
        "# Setting the constraints present in this problem\n",
        "\n",
        "## all different numbers for each row\n",
        "for x in range(9):\n",
        "    model.AddAllDifferent([v[f\"x{x}y{y}\"] for y in range(9)])\n",
        "\n",
        "## all different numbers for each column\n",
        "for y in range(9):\n",
        "    model.AddAllDifferent([v[f\"x{x}y{y}\"] for x in range(9)])\n",
        "\n",
        "## all different numbers for each box\n",
        "for x in range(0,9,3):\n",
        "    for y in range(0,9,3):\n",
        "        model.AddAllDifferent([v[f\"x{i}y{j}\"] for i in range(x,x+3) for j in range(y,y+3)])\n",
        "\n",
        "## constraints provided by the puzzle\n",
        "for x,y,val in v['board constraints']:\n",
        "    model.Add(v[f\"x{x}y{y}\"]==val)\n",
        "\n",
        "# Solving the problem\n",
        "solution=solver.Solve(model)\n",
        "v['end time']=time.time()\n",
        "if solution==cp_model.FEASIBLE:\n",
        "    print('A feasible solution has been found!')\n",
        "    v['result board']=np.zeros((9,9),dtype=np.int8)\n",
        "    for x in range(9):\n",
        "        for y in range(9):\n",
        "            v['result board'][x][y]=solver.Value(v[f\"x{x}y{y}\"])\n",
        "    print('The solved sudoku puzzle is seen below:')\n",
        "    print(v['result board'])\n",
        "    print(f\"The sudoku puzzle was solved in {v['end time']-v['start time']} seconds.\")\n",
        "else:\n",
        "    print('The solver failed to solve the Sudoku problem.')\n",
        "\n"
      ],
      "execution_count": 21,
      "outputs": [
        {
          "output_type": "stream",
          "text": [
            "A feasible solution has been found!\n",
            "The solved sudoku puzzle is seen below:\n",
            "[[4 1 3 9 5 8 6 2 7]\n",
            " [8 5 6 1 2 7 4 3 9]\n",
            " [7 2 9 3 4 6 1 8 5]\n",
            " [3 8 2 4 1 5 7 9 6]\n",
            " [5 4 7 2 6 9 3 1 8]\n",
            " [6 9 1 7 8 3 2 5 4]\n",
            " [2 3 5 6 9 4 8 7 1]\n",
            " [1 6 8 5 7 2 9 4 3]\n",
            " [9 7 4 8 3 1 5 6 2]]\n",
            "The sudoku puzzle was solved in 0.01010751724243164 seconds.\n"
          ],
          "name": "stdout"
        }
      ]
    }
  ]
}